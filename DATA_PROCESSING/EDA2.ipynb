{
 "cells": [
  {
   "cell_type": "markdown",
   "id": "c78f1f7d",
   "metadata": {
    "id": "c78f1f7d"
   },
   "source": [
    "# UNDERSTAND DATASET\n"
   ]
  },
  {
   "cell_type": "markdown",
   "id": "6c2f162d",
   "metadata": {
    "id": "6c2f162d"
   },
   "source": [
    "### IMPORT THƯ VIỆN"
   ]
  },
  {
   "cell_type": "code",
   "id": "a961fdbc",
   "metadata": {
    "id": "a961fdbc",
    "ExecuteTime": {
     "end_time": "2025-10-14T16:23:43.346695Z",
     "start_time": "2025-10-14T16:23:43.340680Z"
    }
   },
   "source": [
    "#IMPORT THƯ VIỆN\n",
    "import pandas as pd\n",
    "import numpy as np\n",
    "import matplotlib.pyplot as plt\n",
    "import seaborn as sns\n",
    "import missingno as msno\n",
    "from pathlib import Path"
   ],
   "outputs": [],
   "execution_count": 2
  },
  {
   "cell_type": "markdown",
   "id": "c67fa9ca",
   "metadata": {
    "id": "c67fa9ca"
   },
   "source": [
    "### IMPORT DATASET"
   ]
  },
  {
   "cell_type": "code",
   "id": "4c13ae65",
   "metadata": {
    "id": "4c13ae65",
    "ExecuteTime": {
     "end_time": "2025-10-14T16:23:49.910297Z",
     "start_time": "2025-10-14T16:23:46.799259Z"
    }
   },
   "source": [
    "#IMPORT DATASET\n",
    "# Lấy đường dẫn của thư mục notebook hiện tại\n",
    "BASE = Path().resolve()\n",
    "\n",
    "# Tự động nối tới các thư mục con\n",
    "master_path = BASE / \"Dataset\" / \"MasterData\"\n",
    "sales_path  = BASE / \"Dataset\" / \"Sales_snapshot_data\"\n",
    "inv_path    = BASE/ \"Dataset\" / \"Inventory_snapshot_data\"\n",
    "\n",
    "#Đọc các file chính\n",
    "retail_price = pd.read_csv(master_path / \"Retail_price.csv\")\n",
    "cogs = pd.read_csv(master_path / \"COGS.csv\")\n",
    "channel = pd.read_csv(master_path / \"Distribution Channel.csv\")\n",
    "calendar = pd.read_csv(master_path / \"Master_Calendar.csv\")\n",
    "product = pd.read_csv(master_path / \"Productmaster.csv\")\n",
    "classification = pd.read_csv(master_path / \"New_Core_Classification.csv\")\n",
    "\n",
    "# Các file ghi nhận bán hàng và tồn kho (nhiều file, chỉ đọc 1 file mẫu hoặc nối tất cả)\n",
    "sales_files = list(sales_path.glob(\"*.csv\"))\n",
    "inventory_files = list(inv_path.glob(\"*.csv\"))\n",
    "\n",
    "sales_data = pd.concat([pd.read_csv(f) for f in sales_files], ignore_index=True)\n",
    "inventory_data = pd.concat([pd.read_csv(f) for f in inventory_files], ignore_index=True)"
   ],
   "outputs": [],
   "execution_count": 3
  },
  {
   "cell_type": "markdown",
   "id": "24a8b502",
   "metadata": {
    "id": "24a8b502"
   },
   "source": [
    "## ĐỌC HIỂU DỮ LIỆU\n",
    "\n",
    "### Dataset cho đề tài là InventoryAndSale_snapshot_data gồm 3 tập dữ liệu chính:\n",
    "+ Masterdata: các trường dữ liệu nền về sản phẩm, kênh bán hàng, chi phí, và phân loại... (gồm 6 bảng database) cụ thể:\n",
    "+ Sales: Chứa thông tin bán hàng (ghi nhận mỗi tháng = 1 file và từ 01/2022 đến 07/2023 --> 17 bảng database) --> DỮ LIỆU CHÍNH CHO MODEL\n",
    "+ Inventory: Ghi nhận thông tin tồn kho mỗi cuối tháng (1 tháng = 1 file --> 12 bảng cho 12 tháng của 2022)\n",
    "\n",
    "MÔ TẢ các tệp data = BẢNG GỒM: FIELD - DATA TYPE - DESCRIPTION\n",
    "\n",
    "Dùng các lệnh sau để đọc được:\n",
    "+ Field: các trường dữ liệu (cột) của mỗi bảng\n",
    "+ Datatype: kiểu dữ liệu của mỗi field\n",
    "+ Non-null count: Đếm số dòng không có giá trị NaN của mỗi field\n",
    "+ Mô tả sơ lược: khái quát ý nghĩa của field (câu lệnh không áp dụng cho description này)"
   ]
  },
  {
   "cell_type": "markdown",
   "id": "51cbffcd",
   "metadata": {
    "id": "51cbffcd"
   },
   "source": [
    "### Trong tập dữ liệu MasterData, ta KHÔNG thật sự cần 3 bảng sau, vì:\n",
    "+ Master_calendar: chứa dữ liệu trong thời gian từ 2016-2020, trong khi đó bảng trung tâm \"Sales\" lại ghi nhận từ 2022-2023.\n",
    "\n",
    "+ Retail_price: ghi nhận giá bán hàng của mỗi productID trong các khoảng thời gian khác nhau --> net_price trong bảng \"Sales\" đã đại diện cho giá trị này nên có thể bỏ qua\n",
    "\n",
    "+ New_core_classification: để phân loại sản phẩm dòng Mới hay cũ --> dữ liệu không cần thiết với đề tài"
   ]
  },
  {
   "cell_type": "code",
   "id": "f2e3d455",
   "metadata": {
    "id": "f2e3d455",
    "outputId": "eea5371f-6b77-40ee-ebfc-a3454a64e24d",
    "ExecuteTime": {
     "end_time": "2025-10-14T16:25:32.671467Z",
     "start_time": "2025-10-14T16:25:32.620462Z"
    }
   },
   "source": [
    "#Retail_price: ghi nhận giá bán hàng của từng productID tại từng gia đoạn khác nhau\n",
    "print(retail_price.info())\n",
    "print(retail_price.head())"
   ],
   "outputs": [
    {
     "name": "stdout",
     "output_type": "stream",
     "text": [
      "<class 'pandas.core.frame.DataFrame'>\n",
      "RangeIndex: 669460 entries, 0 to 669459\n",
      "Data columns (total 6 columns):\n",
      " #   Column      Non-Null Count   Dtype \n",
      "---  ------      --------------   ----- \n",
      " 0   Unnamed: 0  669460 non-null  int64 \n",
      " 1   index       669460 non-null  int64 \n",
      " 2   amount      669460 non-null  int64 \n",
      " 3   valid_from  669460 non-null  object\n",
      " 4   valid_to    669460 non-null  object\n",
      " 5   product_id  669460 non-null  object\n",
      "dtypes: int64(3), object(3)\n",
      "memory usage: 30.6+ MB\n",
      "None\n",
      "   Unnamed: 0  index  amount  valid_from    valid_to  \\\n",
      "0           0      0  125000  01.01.2024  01.12.9999   \n",
      "1           1      1  125000  01.01.2024  01.12.9999   \n",
      "2           2      2  125000  01.01.2024  01.12.9999   \n",
      "3           3      3  125000  01.01.2024  01.12.9999   \n",
      "4           4      4  125000  01.01.2024  01.12.9999   \n",
      "\n",
      "                              product_id  \n",
      "0  f64e53d83cfa461abe156559d55ccae2DEN35  \n",
      "1  c50a6b0caa0b4ca9af55cf27607b64d3DEN36  \n",
      "2  408592eb75e44216a1f65e831f9a08e5DEN37  \n",
      "3  9e7e6f15b9764540bebaca2de63abb03DEN38  \n",
      "4  473397f29c1a4005b3e9bf75496f496eDEN39  \n"
     ]
    }
   ],
   "execution_count": 4
  },
  {
   "cell_type": "code",
   "id": "c21af436",
   "metadata": {
    "id": "c21af436",
    "outputId": "7ab6d6e2-2235-47ad-9fdd-0f54c1e2a652",
    "ExecuteTime": {
     "end_time": "2025-10-14T16:25:35.750262Z",
     "start_time": "2025-10-14T16:25:35.730260Z"
    }
   },
   "source": [
    "#New_core_classification: Phân loại sản phẩm theo dòng Core / New hoặc nhóm chiến lược sản phẩm.\n",
    "print(classification.info())\n",
    "print(classification.head())"
   ],
   "outputs": [
    {
     "name": "stdout",
     "output_type": "stream",
     "text": [
      "<class 'pandas.core.frame.DataFrame'>\n",
      "RangeIndex: 150209 entries, 0 to 150208\n",
      "Data columns (total 11 columns):\n",
      " #   Column              Non-Null Count   Dtype  \n",
      "---  ------              --------------   -----  \n",
      " 0   Unnamed: 0          150209 non-null  int64  \n",
      " 1   index               150209 non-null  int64  \n",
      " 2   lauch_season        128566 non-null  object \n",
      " 3   lauch_season_num    150193 non-null  float64\n",
      " 4   sales_season        150193 non-null  object \n",
      " 5   sales_season_num    150193 non-null  float64\n",
      " 6   final_status        122936 non-null  object \n",
      " 7   b2c_assortment      150193 non-null  float64\n",
      " 8   b2b_assortment      150193 non-null  float64\n",
      " 9   total_assortment    150193 non-null  float64\n",
      " 10  product_syle_color  150176 non-null  object \n",
      "dtypes: float64(5), int64(2), object(4)\n",
      "memory usage: 12.6+ MB\n",
      "None\n",
      "   Unnamed: 0  index lauch_season  lauch_season_num sales_season  \\\n",
      "0           0      0          NaN               0.0         17DE   \n",
      "1           1      1          NaN               0.0         18AP   \n",
      "2           2      2          NaN               0.0         18AU   \n",
      "3           3      3          NaN               0.0         18DE   \n",
      "4           4      4          NaN               0.0         19AP   \n",
      "\n",
      "   sales_season_num final_status  b2c_assortment  b2b_assortment  \\\n",
      "0            1712.0         CORE             1.0             1.0   \n",
      "1            1804.0         CORE             1.0             1.0   \n",
      "2            1808.0         CORE             1.0             1.0   \n",
      "3            1812.0         CORE             1.0             1.0   \n",
      "4            1904.0         CORE             1.0             1.0   \n",
      "\n",
      "   total_assortment                   product_syle_color  \n",
      "0               1.0  0e911e94ee4f4fbebcc4dca85e6496ebDOD  \n",
      "1               1.0  0e911e94ee4f4fbebcc4dca85e6496ebDOD  \n",
      "2               1.0  0e911e94ee4f4fbebcc4dca85e6496ebDOD  \n",
      "3               1.0  0e911e94ee4f4fbebcc4dca85e6496ebDOD  \n",
      "4               1.0  0e911e94ee4f4fbebcc4dca85e6496ebDOD  \n"
     ]
    }
   ],
   "execution_count": 5
  },
  {
   "cell_type": "code",
   "id": "4b820f2a",
   "metadata": {
    "id": "4b820f2a",
    "outputId": "08c168db-a59e-4978-a4ee-c5662c5ccd2f",
    "ExecuteTime": {
     "end_time": "2025-10-14T16:25:38.540296Z",
     "start_time": "2025-10-14T16:25:38.533981Z"
    }
   },
   "source": [
    "#MasterCalendar: Bảng quy đổi mã tuần (YearWeek) sang các thông tin thời gian như năm, tháng.\n",
    "print(calendar.info())\n",
    "print(calendar.head())"
   ],
   "outputs": [
    {
     "name": "stdout",
     "output_type": "stream",
     "text": [
      "<class 'pandas.core.frame.DataFrame'>\n",
      "RangeIndex: 260 entries, 0 to 259\n",
      "Data columns (total 8 columns):\n",
      " #   Column       Non-Null Count  Dtype \n",
      "---  ------       --------------  ----- \n",
      " 0   Year         260 non-null    int64 \n",
      " 1   Month        260 non-null    int64 \n",
      " 2   Month_3Char  260 non-null    int64 \n",
      " 3   Week         260 non-null    int64 \n",
      " 4   YearWeek     260 non-null    int64 \n",
      " 5   Start Date   260 non-null    object\n",
      " 6   End Date     260 non-null    object\n",
      " 7   CNY          260 non-null    object\n",
      "dtypes: int64(5), object(3)\n",
      "memory usage: 16.4+ KB\n",
      "None\n",
      "   Year  Month  Month_3Char  Week  YearWeek  Start Date    End Date  CNY\n",
      "0  2016      1            1     1    201601  2016-01-04  2016-01-10   No\n",
      "1  2016      1            1     2    201602  2016-01-11  2016-01-17   No\n",
      "2  2016      1            1     3    201603  2016-01-18  2016-01-24  Yes\n",
      "3  2016      1            1     4    201604  2016-01-25  2016-01-31  Yes\n",
      "4  2016      2            2     5    201605  2016-02-01  2016-02-07  Yes\n"
     ]
    }
   ],
   "execution_count": 6
  },
  {
   "cell_type": "markdown",
   "id": "c854a16d",
   "metadata": {
    "id": "c854a16d"
   },
   "source": [
    "### 3 Bảng sau cần dùng cho model:"
   ]
  },
  {
   "cell_type": "code",
   "id": "4c83b2d7",
   "metadata": {
    "id": "4c83b2d7",
    "outputId": "f387320a-11b9-411b-c97c-fbed72bd6fd7",
    "ExecuteTime": {
     "end_time": "2025-10-14T16:25:41.179466Z",
     "start_time": "2025-10-14T16:25:41.138039Z"
    }
   },
   "source": [
    "#COGS: Giá vốn hàng bán của từng sản phẩm. (Cost of Good Sold)\n",
    "print(cogs.info())\n",
    "print(cogs.head())\n",
    "print(\"*\"*100)\n",
    "print(\"/Các field quan trọng cần dùng của bảng 'Distribution Channel': `amount`, `product_id`\")"
   ],
   "outputs": [
    {
     "name": "stdout",
     "output_type": "stream",
     "text": [
      "<class 'pandas.core.frame.DataFrame'>\n",
      "RangeIndex: 522675 entries, 0 to 522674\n",
      "Data columns (total 5 columns):\n",
      " #   Column      Non-Null Count   Dtype \n",
      "---  ------      --------------   ----- \n",
      " 0   index       522675 non-null  int64 \n",
      " 1   amount      522675 non-null  int64 \n",
      " 2   valid_from  522675 non-null  object\n",
      " 3   valid_to    522675 non-null  object\n",
      " 4   product_id  522675 non-null  object\n",
      "dtypes: int64(2), object(3)\n",
      "memory usage: 19.9+ MB\n",
      "None\n",
      "   index  amount  valid_from    valid_to  \\\n",
      "0      0   50000  23.12.2021  31.01.2023   \n",
      "1      1   50000  23.12.2021  31.01.2023   \n",
      "2      2  479400  01.01.2023  07.02.2023   \n",
      "3      3  479400  01.01.2023  07.02.2023   \n",
      "4      4  479400  01.01.2023  07.02.2023   \n",
      "\n",
      "                              product_id  \n",
      "0  904de55fb0ca414cb86b2e466c9d74c1OOO00  \n",
      "1  904de55fb0ca414cb86b2e466c9d74c1OOO00  \n",
      "2  9e8ecc5d2b104d609e3b53c4724bc96aCAM39  \n",
      "3  9225ed5b408343be98a4dc63d4027a26CAM40  \n",
      "4  d1410b40bb004d1f9b2c2619d2c933f6CAM41  \n",
      "****************************************************************************************************\n",
      "/Các field quan trọng cần dùng của bảng 'Distribution Channel': `amount`, `product_id`\n"
     ]
    }
   ],
   "execution_count": 7
  },
  {
   "cell_type": "code",
   "id": "74397379",
   "metadata": {
    "id": "74397379",
    "outputId": "7073ce17-3c76-4ea7-f891-c616bf9baa56",
    "ExecuteTime": {
     "end_time": "2025-10-14T16:25:43.815169Z",
     "start_time": "2025-10-14T16:25:43.802847Z"
    }
   },
   "source": [
    "#Distribution_Channel: Danh mục kênh phân phối và thông tin cửa hàng (site).\n",
    "print(channel.info())\n",
    "print(channel.head())\n",
    "print(\"*\"*100)\n",
    "print(\"/Các field quan trọng cần dùng của bảng 'Distribution Channel': 'site_store', `region`, `store_type`, `urbanization`, `b2b_b2c`, `channel_id'\")\n"
   ],
   "outputs": [
    {
     "name": "stdout",
     "output_type": "stream",
     "text": [
      "<class 'pandas.core.frame.DataFrame'>\n",
      "RangeIndex: 3405 entries, 0 to 3404\n",
      "Data columns (total 24 columns):\n",
      " #   Column          Non-Null Count  Dtype \n",
      "---  ------          --------------  ----- \n",
      " 0   Unnamed: 0      3405 non-null   int64 \n",
      " 1   index           3405 non-null   int64 \n",
      " 2   site_store      3405 non-null   int64 \n",
      " 3   b2b_b2c         3405 non-null   object\n",
      " 4   channel_id      3405 non-null   object\n",
      " 5   region          3405 non-null   object\n",
      " 6   city_level      3405 non-null   object\n",
      " 7   store_concept   3403 non-null   object\n",
      " 8   trade_term      3405 non-null   object\n",
      " 9   area_range      464 non-null    object\n",
      " 10  store_type      3405 non-null   object\n",
      " 11  urbanization    3405 non-null   object\n",
      " 12  branch_area     3405 non-null   object\n",
      " 13  address_2       3403 non-null   object\n",
      " 14  address_3       3403 non-null   object\n",
      " 15  showroom_area   470 non-null    object\n",
      " 16  warehouse_area  456 non-null    object\n",
      " 17  start_month     3376 non-null   object\n",
      " 18  start_year      3376 non-null   object\n",
      " 19  end_month       1927 non-null   object\n",
      " 20  end_year        1941 non-null   object\n",
      " 21  note            49 non-null     object\n",
      " 22  customer_id     3405 non-null   object\n",
      " 23  customer_name   3405 non-null   object\n",
      "dtypes: int64(3), object(21)\n",
      "memory usage: 638.6+ KB\n",
      "None\n",
      "   Unnamed: 0  index  site_store b2b_b2c channel_id region city_level  \\\n",
      "0           0      0    60000003     B2B         ST   KVMN     Cấp TW   \n",
      "1           1      1    60000006     B2B         ST   KVMN      Cấp 2   \n",
      "2           2      2    60000007     B2B         ST   KVMN     Cấp TW   \n",
      "3           3      3    60000008     B2B         ST   KVMN     Cấp TW   \n",
      "4           4      4    60000534     B2B         ST   KVMN     Cấp TW   \n",
      "\n",
      "               store_concept        trade_term area_range  ... address_3  \\\n",
      "0  Cửa hàng của các siêu thị  Mua đứt bán đoạn        NaN  ...       HCM   \n",
      "1  Cửa hàng của các siêu thị  Mua đứt bán đoạn        NaN  ...       ĐNI   \n",
      "2  Cửa hàng của các siêu thị  Mua đứt bán đoạn        NaN  ...       HCM   \n",
      "3  Cửa hàng của các siêu thị  Mua đứt bán đoạn        NaN  ...       HCM   \n",
      "4  Cửa hàng của các siêu thị  Mua đứt bán đoạn        NaN  ...       HCM   \n",
      "\n",
      "  showroom_area warehouse_area start_month start_year end_month end_year note  \\\n",
      "0           NaN            NaN           8       2010       NaN      NaN  NaN   \n",
      "1           NaN            NaN           8       2010       NaN      NaN  NaN   \n",
      "2           NaN            NaN           8       2010       NaN      NaN  NaN   \n",
      "3           NaN            NaN           8       2010       NaN      NaN  NaN   \n",
      "4           NaN            NaN           8       2010       NaN      NaN  NaN   \n",
      "\n",
      "  customer_id customer_name  \n",
      "0   435043cf9   customer878  \n",
      "1   db3c83bfa   customer904  \n",
      "2   f9bd8e994  customer1213  \n",
      "3   c6fb2b695  customer1792  \n",
      "4   68be208f8   customer463  \n",
      "\n",
      "[5 rows x 24 columns]\n",
      "****************************************************************************************************\n",
      "/Các field quan trọng cần dùng của bảng 'Distribution Channel': 'site_store', `region`, `store_type`, `urbanization`, `b2b_b2c`, `channel_id'\n"
     ]
    }
   ],
   "execution_count": 8
  },
  {
   "cell_type": "code",
   "id": "6c18166f",
   "metadata": {
    "id": "6c18166f",
    "outputId": "a7921d2f-cd07-4adf-8665-3c77c811c9fb",
    "ExecuteTime": {
     "end_time": "2025-10-14T16:25:46.531754Z",
     "start_time": "2025-10-14T16:25:46.480187Z"
    }
   },
   "source": [
    "#Productmaster: Danh sách chi tiết từng sản phẩm (SKU) của doanh nghiệp.\n",
    "print(product.info())\n",
    "print(product.head())\n",
    "print(\"*\"*100)\n",
    "print(\"/Các field quan trọng cần dùng của bảng 'Productmaster':`product_id`, `product_group`, `brand_name`, `price_group`, `listing_price`\")\n"
   ],
   "outputs": [
    {
     "name": "stdout",
     "output_type": "stream",
     "text": [
      "<class 'pandas.core.frame.DataFrame'>\n",
      "RangeIndex: 94867 entries, 0 to 94866\n",
      "Data columns (total 27 columns):\n",
      " #   Column                Non-Null Count  Dtype  \n",
      "---  ------                --------------  -----  \n",
      " 0   Unnamed: 0            94867 non-null  int64  \n",
      " 1   index                 94867 non-null  int64  \n",
      " 2   color                 94822 non-null  object \n",
      " 3   color_group           94867 non-null  object \n",
      " 4   listing_price         94840 non-null  float64\n",
      " 5   price_group           94840 non-null  object \n",
      " 6   gender                94867 non-null  object \n",
      " 7   product_group         94867 non-null  object \n",
      " 8   detail_product_group  94867 non-null  object \n",
      " 9   shoe_product          94867 non-null  object \n",
      " 10  size_group            94867 non-null  object \n",
      " 11  size                  94722 non-null  float64\n",
      " 12  age_group             94867 non-null  object \n",
      " 13  activity_group        94867 non-null  object \n",
      " 14  image_copyright       94867 non-null  object \n",
      " 15  lifestyle_group       94688 non-null  object \n",
      " 16  launch_season         94867 non-null  object \n",
      " 17  mold_code             31209 non-null  object \n",
      " 18  heel_height           84610 non-null  object \n",
      " 19  code_lock             33201 non-null  object \n",
      " 20  option                94867 non-null  object \n",
      " 21  cost_price            94632 non-null  float64\n",
      " 22  product_id            94867 non-null  object \n",
      " 23  product_syle_color    94867 non-null  object \n",
      " 24  product_syle          94867 non-null  object \n",
      " 25  brand_name            94867 non-null  object \n",
      " 26  vendor_name           89444 non-null  object \n",
      "dtypes: float64(3), int64(2), object(22)\n",
      "memory usage: 19.5+ MB\n",
      "None\n",
      "   Unnamed: 0  index color color_group  listing_price price_group gender  \\\n",
      "0           0      0   DEN         TỐI       255273.0     200<300    MEN   \n",
      "1           1      1   DEN         TỐI       255273.0     200<300    MEN   \n",
      "2           2      2   DEN         TỐI       255273.0     200<300    MEN   \n",
      "3           3      3   DEN         TỐI       255273.0     200<300    MEN   \n",
      "4           4      4   DEN         TỐI       255273.0     200<300    MEN   \n",
      "\n",
      "  product_group detail_product_group shoe_product  ... mold_code  heel_height  \\\n",
      "0           SAN                SANTD          STT  ...    DRB057       Đế Sẹp   \n",
      "1           SAN                SANTD          STT  ...    DRB057       Đế Sẹp   \n",
      "2           SAN                SANTD          STT  ...    DRB057       Đế Sẹp   \n",
      "3           SAN                SANTD          STT  ...    DRB057       Đế Sẹp   \n",
      "4           SAN                SANTD          STT  ...    DRB057       Đế Sẹp   \n",
      "\n",
      "  code_lock   option cost_price                             product_id  \\\n",
      "0         x  P03-C05   176800.0  80e1107e5bf74598baffea3a7b6073c5DEN38   \n",
      "1         x  P03-C05   176800.0  c8223e6133a64491a006dc0f95c2bfd9DEN39   \n",
      "2         x  P03-C05   176800.0  bec30e131ee04e49a4c87bc56f135b13DEN40   \n",
      "3         x  P03-C05   176800.0  3f4e265b0ac740e9b9edfd23e0ba1ca5DEN41   \n",
      "4         x  P03-C05   176800.0  53e6284597944ec787e002b631391210DEN42   \n",
      "\n",
      "                    product_syle_color                      product_syle  \\\n",
      "0  80e1107e5bf74598baffea3a7b6073c5DEN  80e1107e5bf74598baffea3a7b6073c5   \n",
      "1  c8223e6133a64491a006dc0f95c2bfd9DEN  c8223e6133a64491a006dc0f95c2bfd9   \n",
      "2  bec30e131ee04e49a4c87bc56f135b13DEN  bec30e131ee04e49a4c87bc56f135b13   \n",
      "3  3f4e265b0ac740e9b9edfd23e0ba1ca5DEN  3f4e265b0ac740e9b9edfd23e0ba1ca5   \n",
      "4  53e6284597944ec787e002b631391210DEN  53e6284597944ec787e002b631391210   \n",
      "\n",
      "  brand_name vendor_name  \n",
      "0     Brand1     vendor0  \n",
      "1     Brand1     vendor0  \n",
      "2     Brand1     vendor0  \n",
      "3     Brand1     vendor0  \n",
      "4     Brand1     vendor0  \n",
      "\n",
      "[5 rows x 27 columns]\n",
      "****************************************************************************************************\n",
      "/Các field quan trọng cần dùng của bảng 'Productmaster':`product_id`, `product_group`, `brand_name`, `price_group`, `listing_price`\n"
     ]
    }
   ],
   "execution_count": 9
  },
  {
   "cell_type": "markdown",
   "id": "1d957ed1",
   "metadata": {
    "id": "1d957ed1"
   },
   "source": [
    "### Và Không cần dùng tập dữ liệu Inventory cho model vì:\n",
    "Các ghi nhận hàng tồn kho diễn ra trong 12 tháng 2022 mà bảng trung tâm \"Sales\" lại ghi nhận từ 01/2022 đến 07/2023 --> Inventory không đáp đủ dữ liệu trong thời gian của Sales (đồng thời dữ liệu về tồn kho không thật sự cần thiết cho đề tài)"
   ]
  },
  {
   "cell_type": "code",
   "id": "9848c0a7",
   "metadata": {
    "id": "9848c0a7",
    "outputId": "89695036-1167-465f-849b-4e71005e99cf",
    "ExecuteTime": {
     "end_time": "2025-10-14T16:25:49.702830Z",
     "start_time": "2025-10-14T16:25:49.633195Z"
    }
   },
   "source": [
    "#Inventory: Ghi nhận thông tin tồn kho mỗi cuối tháng (1 tháng = 1 file --> 12 bảng cho 12 tháng của 2022)\n",
    "print(inventory_data.info())\n",
    "print(inventory_data.head())\n"
   ],
   "outputs": [
    {
     "name": "stdout",
     "output_type": "stream",
     "text": [
      "<class 'pandas.core.frame.DataFrame'>\n",
      "RangeIndex: 1367080 entries, 0 to 1367079\n",
      "Data columns (total 9 columns):\n",
      " #   Column              Non-Null Count    Dtype \n",
      "---  ------              --------------    ----- \n",
      " 0   Unnamed: 0          1367080 non-null  int64 \n",
      " 1   index               1367080 non-null  int64 \n",
      " 2   plant               1367080 non-null  int64 \n",
      " 3   calendar_year       1367080 non-null  int64 \n",
      " 4   calendar_yeer_week  1367080 non-null  int64 \n",
      " 5   sloc                1367080 non-null  object\n",
      " 6   quantity            1367080 non-null  int64 \n",
      " 7   total_amount        1367080 non-null  int64 \n",
      " 8   product_id          1367080 non-null  object\n",
      "dtypes: int64(7), object(2)\n",
      "memory usage: 93.9+ MB\n",
      "None\n",
      "   Unnamed: 0  index  plant  calendar_year  calendar_yeer_week  sloc  \\\n",
      "0           0      0   1201           2022            20220228  3000   \n",
      "1           1      1   1201           2022            20220228  3000   \n",
      "2           2      2   1201           2022            20220228  3000   \n",
      "3           3      3   1201           2022            20220228  3000   \n",
      "4           4      4   1201           2022            20220228  3000   \n",
      "\n",
      "   quantity  total_amount                             product_id  \n",
      "0        19             0  1259098aaa8e447181f13903f84e5db1OOO35  \n",
      "1        41             0  39b38616e4d649ab9c3b7d04e82e079fOOO36  \n",
      "2        96             0  8db14e88898e40a392f80ed69c30e206OOO37  \n",
      "3        87             0  7c15de90afd343338f93c8f65a0d8380OOO38  \n",
      "4       104             0  6c04a173aec34690b242ed4e09367e96OOO39  \n"
     ]
    }
   ],
   "execution_count": 10
  },
  {
   "cell_type": "markdown",
   "id": "3fe22c8d",
   "metadata": {
    "id": "3fe22c8d"
   },
   "source": [
    "### Bảng Sales được gộp từ các ghi nhận 01/2022-07/2023 là bảng trung tâm (quan trọng nhất):"
   ]
  },
  {
   "cell_type": "code",
   "id": "b599f677",
   "metadata": {
    "id": "b599f677",
    "outputId": "6d8b5dfc-98dc-468c-a305-ec039bfe7863",
    "ExecuteTime": {
     "end_time": "2025-10-14T16:26:03.058406Z",
     "start_time": "2025-10-14T16:26:02.966951Z"
    }
   },
   "source": [
    "# Sales: Chứa thông tin bán hàng (ghi nhận mỗi tháng = 1 file và từ 01/2022 đến 07/2023 --> 17 bảng database)\n",
    "#--> DỮ LIỆU CHÍNH CHO MODEL\n",
    "print(sales_data.info())\n",
    "print(sales_data.head())\n",
    "print(\"*\"*100)\n",
    "print(\"/2 field là `distribution_channel` và `customer_id` cot hể lượt bỏ vì không cần thiết cho model\")"
   ],
   "outputs": [
    {
     "name": "stdout",
     "output_type": "stream",
     "text": [
      "<class 'pandas.core.frame.DataFrame'>\n",
      "RangeIndex: 831966 entries, 0 to 831965\n",
      "Data columns (total 12 columns):\n",
      " #   Column                     Non-Null Count   Dtype \n",
      "---  ------                     --------------   ----- \n",
      " 0   month                      831966 non-null  int64 \n",
      " 1   week                       831966 non-null  int64 \n",
      " 2   site                       831966 non-null  int64 \n",
      " 3   branch_id                  831966 non-null  int64 \n",
      " 4   channel_id                 831966 non-null  object\n",
      " 5   distribution_channel       831966 non-null  object\n",
      " 6   distribution_channel_code  831966 non-null  object\n",
      " 7   sold_quantity              831966 non-null  int64 \n",
      " 8   cost_price                 831966 non-null  int64 \n",
      " 9   net_price                  831966 non-null  int64 \n",
      " 10  customer_id                831965 non-null  object\n",
      " 11  product_id                 831966 non-null  object\n",
      "dtypes: int64(7), object(5)\n",
      "memory usage: 76.2+ MB\n",
      "None\n",
      "     month    week  site  branch_id channel_id distribution_channel  \\\n",
      "0  2022001  202201  1800       1800     Online               Online   \n",
      "1  2022001  202204  1116       1100       CHTT               Bán lẻ   \n",
      "2  2022001  202201  1134       1100       CHTT               Bán lẻ   \n",
      "3  2022001  202204  1612       1600       CHTT               Bán lẻ   \n",
      "4  2022001  202202  1511       1500       CHTT               Bán lẻ   \n",
      "\n",
      "  distribution_channel_code  sold_quantity  cost_price  net_price customer_id  \\\n",
      "0                       ZF2              1      495720     729000   9847d4248   \n",
      "1                        FP              1      221000     325000   2384aef55   \n",
      "2                        FP              1      255000     375000   20c3e0442   \n",
      "3                        FP              1      258400     380000   e8b42ff8f   \n",
      "4                        FP              1      272000     400000   b8d51499a   \n",
      "\n",
      "                              product_id  \n",
      "0  d77fdd34a14845db97837e059b0aca00TRG42  \n",
      "1  e485c0ab7b9b470cbddb80ea7367e734DEN40  \n",
      "2  ac88f78262ee4b589bc93b106b67af1dDEN42  \n",
      "3  920641c624934c4a8695347737f8f59dDEN35  \n",
      "4  6764565f4bb141138af7d9cbf0905d0dHOL33  \n",
      "****************************************************************************************************\n",
      "/2 field là `distribution_channel` và `customer_id` cot hể lượt bỏ vì không cần thiết cho model\n"
     ]
    }
   ],
   "execution_count": 11
  },
  {
   "cell_type": "markdown",
   "id": "dc6b7705",
   "metadata": {
    "id": "dc6b7705"
   },
   "source": [
    "## CÁC TRƯỜNG CỐT LÕI CỦA MODEL\n",
    "\n",
    "| **Nhóm biến**                        | **Biến cụ thể**                                                             | **Nguồn bảng**            | **Vai trò trong mô hình**                                                              |\n",
    "| ------------------------------------ | --------------------------------------------------------------------------- | ------------------------- | --------------------------------------------------------------------------------------------- |\n",
    "| **Địa điểm + Kênh bán (Region / Channel)**        | `region`, `store_type`, `urbanization`, `b2b_b2c`, `channel_id`                                      | `Distribution Channel`    | Đặc trưng khu vực và mức độ đô thị hoá – ảnh hưởng hành vi tiêu dùng. Phân biệt hành vi mua giữa B2B và B2C, ảnh hưởng độ nhạy giá.                         |\n",
    "| **Sản phẩm (Product)**               | `product_id`, `product_group`, `brand_name`, `price_group`, `listing_price`| `Productmaster`           | Đặc trưng sản phẩm, phân loại giá và thương hiệu – nền tảng chính để dự báo nhu cầu theo SKU. |\n",
    "| **Giá & doanh số (Pricing & Sales)** | `sold_quantity`, `net_price`, `cost_price`,  `month`, `week`                                   | `Sales_snapshot_data`     | Thông tin bán hàng thực tế – biến đầu vào chính cho dự báo.                                   |\n",
    "| **Giá vốn chuẩn (Standard Cost)**    | `cost_std`                                                                  | `COGS`                    | Dùng để phân tích độ lệch giữa giá vốn thực tế và giá vốn kế hoạch.                           |\n",
    "| **Tổng hợp (Derived Features)**      | `revenue`, `profit`, `gross_margin`, `discount_rate` (dự tính áp dụng)                       | Tính toán từ các biến gốc | Biến phản ánh hiệu quả kinh doanh, dùng để kiểm định và huấn luyện mô hình.                   |\n",
    "\n",
    "\n",
    "--> Với mỗi nhóm biến (field) ta sẽ ứng dụng cho từng mục đích nhỏ trong việc xây dựng mô hình của đề tài\n",
    "\n",
    "==> 3 bảng thuộc MasterData (COGS, ProductMasster và DistributionChannel) và bảng Sales là 4 bảng chính chúng ta cần phân tích\n"
   ]
  },
  {
   "cell_type": "markdown",
   "id": "e125f8f9",
   "metadata": {
    "id": "e125f8f9"
   },
   "source": [
    "## ĐỌC LẠI DỮ LIỆU 4 BẢNG VỚI CÁC FIELD CẦN THIẾT"
   ]
  },
  {
   "cell_type": "code",
   "id": "025bc8ae",
   "metadata": {
    "id": "025bc8ae",
    "outputId": "da0b16fc-da6f-4dce-b7d4-08924149a986",
    "ExecuteTime": {
     "end_time": "2025-10-14T16:26:16.354100Z",
     "start_time": "2025-10-14T16:26:16.291143Z"
    }
   },
   "source": [
    "# === Đọc lại tập dữ liệu sale với những field cần thiết ===\n",
    "sales_data = sales_data[['week', 'month', 'site','branch_id', 'channel_id','distribution_channel_code', 'sold_quantity', 'net_price', 'cost_price', 'product_id']]\n",
    "print(\"Sales:\", sales_data.shape) # ==> ĐÂY LÀ BẢNG TRUNG TÂM, loại bỏ 'channel_distribution' và 'custumer_id'\n",
    "\n",
    "\n",
    "# === Đọc Product, Channel & COGS ===\n",
    "product = product[['product_id', 'product_group', 'brand_name', 'price_group', 'listing_price']]\n",
    "print(\"products: \", product.shape)\n",
    "\n",
    "cogs = cogs[['product_id', 'amount']]\n",
    "print(\"cogs: \", cogs.shape)\n",
    "\n",
    "channel = channel[['site_store', 'region', 'store_type', 'urbanization', 'b2b_b2c']]\n",
    "print(\"channel: \", channel.shape)"
   ],
   "outputs": [
    {
     "name": "stdout",
     "output_type": "stream",
     "text": [
      "Sales: (831966, 10)\n",
      "products:  (94867, 5)\n",
      "cogs:  (522675, 2)\n",
      "channel:  (3405, 5)\n"
     ]
    }
   ],
   "execution_count": 12
  },
  {
   "cell_type": "code",
   "id": "15b07f04",
   "metadata": {
    "id": "15b07f04",
    "outputId": "75d9c903-bc27-4b54-980f-11983f8b1b5d",
    "ExecuteTime": {
     "end_time": "2025-10-14T16:26:21.630299Z",
     "start_time": "2025-10-14T16:26:21.623468Z"
    }
   },
   "source": [
    "def check_negative_ratio(df, column):\n",
    "    \"\"\"\n",
    "    Đếm số lượng và tỷ lệ phần trăm giá trị âm trong một cột cụ thể.\n",
    "    \"\"\"\n",
    "    total = len(df)\n",
    "    negative_count = (df[column] < 0).sum()\n",
    "    ratio = (negative_count / total) * 100 if total > 0 else 0\n",
    "\n",
    "    print(f\"Cột '{column}': có {negative_count} giá trị âm ({ratio:.2f}% trong tổng {total} dòng).\")\n",
    "\n",
    "    return negative_count, ratio\n",
    "\n",
    "# Gọi hàm cho bảng sales_data\n",
    "check_negative_ratio(sales_data, 'sold_quantity')\n"
   ],
   "outputs": [
    {
     "name": "stdout",
     "output_type": "stream",
     "text": [
      "Cột 'sold_quantity': có 26432 giá trị âm (3.18% trong tổng 831966 dòng).\n"
     ]
    },
    {
     "data": {
      "text/plain": [
       "(np.int64(26432), np.float64(3.177052908412123))"
      ]
     },
     "execution_count": 13,
     "metadata": {},
     "output_type": "execute_result"
    }
   ],
   "execution_count": 13
  },
  {
   "cell_type": "markdown",
   "id": "0e771136",
   "metadata": {
    "id": "0e771136"
   },
   "source": [
    "### Thống kê mô tả nhanh các đặc trưng của các bảng sau"
   ]
  },
  {
   "cell_type": "code",
   "id": "0f2b0bc5",
   "metadata": {
    "id": "0f2b0bc5",
    "outputId": "319eea07-ad7b-4c5d-fe95-4eda712dc48b",
    "ExecuteTime": {
     "end_time": "2025-10-14T16:26:25.451857Z",
     "start_time": "2025-10-14T16:26:25.284082Z"
    }
   },
   "source": [
    "print(\"Bảng Sales: \")\n",
    "print(sales_data.describe(include=[float, int])) #mô tả các cột số numeric\n",
    "print(\"\\n \\n Bảng Product: \")\n",
    "print(product.describe(include=[float, int])) #mô tả các cột số numeric\n",
    "print(\"\\n Bảng COGS: \")\n",
    "print(cogs.describe(include=[float, int]))#mô tả các cột số numeric\n",
    "print(\"\\n Bảng Channel: \")\n",
    "print(channel.describe(include=[float, int])) #mô tả các cột số numeric\n",
    "\n",
    "\n"
   ],
   "outputs": [
    {
     "name": "stdout",
     "output_type": "stream",
     "text": [
      "Bảng Sales: \n",
      "                week         month           site      branch_id  \\\n",
      "count  831966.000000  8.319660e+05  831966.000000  831966.000000   \n",
      "mean   202252.805829  2.022310e+06    1283.890859    1265.760139   \n",
      "std        43.837871  4.588165e+02     214.917423     220.033499   \n",
      "min    202153.000000  2.022001e+06    1100.000000    1100.000000   \n",
      "25%    202218.000000  2.022005e+06    1118.000000    1100.000000   \n",
      "50%    202237.000000  2.022009e+06    1200.000000    1200.000000   \n",
      "75%    202303.000000  2.023001e+06    1503.000000    1500.000000   \n",
      "max    202352.000000  2.023007e+06    2001.000000    2000.000000   \n",
      "\n",
      "       sold_quantity     net_price    cost_price  \n",
      "count  831966.000000  8.319660e+05  8.319660e+05  \n",
      "mean        1.411734  3.993313e+05  3.055058e+05  \n",
      "std         3.262691  6.886876e+05  6.034099e+05  \n",
      "min       -47.000000 -2.302845e+07 -2.184840e+07  \n",
      "25%         1.000000  1.594260e+05  1.190000e+05  \n",
      "50%         1.000000  2.900000e+05  2.069680e+05  \n",
      "75%         1.000000  4.590000e+05  3.271420e+05  \n",
      "max       500.000000  7.424144e+07  6.082435e+07  \n",
      "\n",
      " \n",
      " Bảng Product: \n",
      "       listing_price\n",
      "count   9.484000e+04\n",
      "mean    2.386324e+05\n",
      "std     2.693594e+05\n",
      "min     3.500000e+03\n",
      "25%     8.738200e+04\n",
      "50%     1.649450e+05\n",
      "75%     2.847270e+05\n",
      "max     5.889927e+06\n",
      "\n",
      " Bảng COGS: \n",
      "             amount\n",
      "count  5.226750e+05\n",
      "mean   1.719993e+05\n",
      "std    1.316353e+06\n",
      "min    0.000000e+00\n",
      "25%    7.000000e+04\n",
      "50%    1.292000e+05\n",
      "75%    2.108000e+05\n",
      "max    9.380000e+08\n",
      "\n",
      " Bảng Channel: \n",
      "         site_store\n",
      "count  3.405000e+03\n",
      "mean   5.048620e+07\n",
      "std    2.146735e+07\n",
      "min    1.100000e+03\n",
      "25%    6.000027e+07\n",
      "50%    6.000123e+07\n",
      "75%    6.000225e+07\n",
      "max    6.000408e+07\n"
     ]
    }
   ],
   "execution_count": 14
  },
  {
   "cell_type": "markdown",
   "id": "0e2a9562",
   "metadata": {
    "id": "0e2a9562"
   },
   "source": [
    "## Kiểm tra kiểu dữ liệu và giá trị âm của các field"
   ]
  },
  {
   "cell_type": "code",
   "id": "066a0bdd",
   "metadata": {
    "id": "066a0bdd",
    "outputId": "00e29586-d653-426a-e46a-af28dc2f2948",
    "ExecuteTime": {
     "end_time": "2025-10-14T16:26:41.955241Z",
     "start_time": "2025-10-14T16:26:40.554464Z"
    }
   },
   "source": [
    "import numpy as np\n",
    "\n",
    "def check_dtype_and_negative(df, name=\"DataFrame\"):\n",
    "    print(f\"\\nKiểm tra dữ liệu trong bảng: {name}\")\n",
    "    print(\"-\" * 60)\n",
    "\n",
    "    #  Kiểm tra kiểu dữ liệu không đồng nhất\n",
    "    for col in df.columns:\n",
    "        types = df[col].map(type).unique()\n",
    "        if len(types) > 1:\n",
    "            print(f\"Cột '{col}' có nhiều kiểu dữ liệu: {types}\")\n",
    "\n",
    "    # Kiểm tra cột số bị đọc sai kiểu object\n",
    "    print(\"\\n Cột kiểu object nghi ngờ chứa giá trị số:\")\n",
    "    for col in df.columns:\n",
    "        if df[col].dtype == 'object':\n",
    "            # bỏ qua chuỗi chỉ chứa ký tự hợp lệ cho số\n",
    "            non_numeric = df[col].astype(str).str.contains(r'[^0-9.\\-]', na=False).sum()\n",
    "            if non_numeric == 0 and df[col].nunique() > 5:\n",
    "                print(f\"  '{col}' có vẻ là số nhưng bị đọc thành object.\")\n",
    "\n",
    "    # Kiểm tra giá trị âm bất thường trong cột số\n",
    "    print(\"\\n Cột có giá trị âm bất thường:\")\n",
    "    numeric_cols = df.select_dtypes(include=[np.number]).columns\n",
    "    for col in numeric_cols:\n",
    "        neg_count = (df[col] < 0).sum()\n",
    "        if neg_count > 0:\n",
    "            min_val = df[col].min()\n",
    "            print(f\" {col}: {neg_count} giá trị âm (min = {min_val})\")\n",
    "\n",
    "    print(\"-\" * 60)\n",
    "\n",
    "check_dtype_and_negative(cogs, \"COGS\")\n",
    "check_dtype_and_negative(product, \"Product\")\n",
    "check_dtype_and_negative(channel, \"Channel\")\n",
    "check_dtype_and_negative(sales_data, \"Sales\")\n"
   ],
   "outputs": [
    {
     "name": "stdout",
     "output_type": "stream",
     "text": [
      "\n",
      "Kiểm tra dữ liệu trong bảng: COGS\n",
      "------------------------------------------------------------\n",
      "\n",
      " Cột kiểu object nghi ngờ chứa giá trị số:\n",
      "\n",
      " Cột có giá trị âm bất thường:\n",
      "------------------------------------------------------------\n",
      "\n",
      "Kiểm tra dữ liệu trong bảng: Product\n",
      "------------------------------------------------------------\n",
      "Cột 'price_group' có nhiều kiểu dữ liệu: [<class 'str'> <class 'float'>]\n",
      "\n",
      " Cột kiểu object nghi ngờ chứa giá trị số:\n",
      "\n",
      " Cột có giá trị âm bất thường:\n",
      "------------------------------------------------------------\n",
      "\n",
      "Kiểm tra dữ liệu trong bảng: Channel\n",
      "------------------------------------------------------------\n",
      "\n",
      " Cột kiểu object nghi ngờ chứa giá trị số:\n",
      "\n",
      " Cột có giá trị âm bất thường:\n",
      "------------------------------------------------------------\n",
      "\n",
      "Kiểm tra dữ liệu trong bảng: Sales\n",
      "------------------------------------------------------------\n",
      "\n",
      " Cột kiểu object nghi ngờ chứa giá trị số:\n",
      "\n",
      " Cột có giá trị âm bất thường:\n",
      " sold_quantity: 26432 giá trị âm (min = -47)\n",
      " net_price: 26005 giá trị âm (min = -23028450)\n",
      " cost_price: 26432 giá trị âm (min = -21848400)\n",
      "------------------------------------------------------------\n"
     ]
    }
   ],
   "execution_count": 15
  },
  {
   "cell_type": "markdown",
   "id": "682744e3",
   "metadata": {
    "id": "682744e3"
   },
   "source": [
    "### Bảng Product có 'price_group' chứa 2 kiểu dữ liệu:\n",
    "--> Hoàn toàn bình thường và hợp lệ vì nó chia group theo khoảng giá nên có dấu so sánh\n",
    "--> không cần phải xử lý\n",
    "\n",
    "### Bảng Sales có giá trị âm ở sold_quantity và các cột giá:\n",
    "--> Ta loại bỏ các dòng có 'sold_quantity' âm vì model không xét tới các trường hợp hoàn trả hay chiết khấu\n"
   ]
  },
  {
   "cell_type": "code",
   "id": "75299d98",
   "metadata": {
    "id": "75299d98",
    "outputId": "c6b4b987-3e46-49a7-cfdd-6b59ba7683f1",
    "ExecuteTime": {
     "end_time": "2025-10-14T16:26:48.934488Z",
     "start_time": "2025-10-14T16:26:48.879853Z"
    }
   },
   "source": [
    "print(\"Số dòng trước khi loại bỏ giá trị âm: \",sales_data.shape)\n",
    "# Loại bỏ các dòng có sold_quantity âm\n",
    "sales_data = sales_data[sales_data['sold_quantity'] >= 0]\n",
    "\n",
    "# Kiểm tra lại sau khi loại bỏ\n",
    "print(\"Số dòng còn lại:\", sales_data.shape)\n",
    "print(\"Còn giá trị âm không?\", (sales_data['sold_quantity'] < 0).sum())\n"
   ],
   "outputs": [
    {
     "name": "stdout",
     "output_type": "stream",
     "text": [
      "Số dòng trước khi loại bỏ giá trị âm:  (831966, 10)\n",
      "Số dòng còn lại: (805534, 10)\n",
      "Còn giá trị âm không? 0\n"
     ]
    }
   ],
   "execution_count": 16
  },
  {
   "cell_type": "markdown",
   "id": "47e7fa22",
   "metadata": {
    "id": "47e7fa22"
   },
   "source": [
    "# CLEAN CODE"
   ]
  },
  {
   "cell_type": "markdown",
   "id": "8fc980d7",
   "metadata": {
    "id": "8fc980d7"
   },
   "source": [
    "## Kiểm tra giá trị thiếu (Missing Values) + xử lí"
   ]
  },
  {
   "cell_type": "code",
   "id": "3e50209a",
   "metadata": {
    "id": "3e50209a",
    "outputId": "c335d663-a5cb-4477-b6b8-502cfad64747",
    "ExecuteTime": {
     "end_time": "2025-10-14T16:26:56.725491Z",
     "start_time": "2025-10-14T16:26:56.650495Z"
    }
   },
   "source": [
    "print(\"Kiểm tra missing value của bảng Sales:\\n\", sales_data.isnull().sum())\n",
    "print(\"\\nKiểm tra missing value của bảng Product:\\n\",product.isnull().sum())\n",
    "print(\"\\nKiểm tra missing value của bảng Channel:\\n\", channel.isnull().sum())\n",
    "print(\"\\nKiểm tra missing value của bảng COGS:\\n\", cogs.isnull().sum())\n",
    "\n"
   ],
   "outputs": [
    {
     "name": "stdout",
     "output_type": "stream",
     "text": [
      "Kiểm tra missing value của bảng Sales:\n",
      " week                         0\n",
      "month                        0\n",
      "site                         0\n",
      "branch_id                    0\n",
      "channel_id                   0\n",
      "distribution_channel_code    0\n",
      "sold_quantity                0\n",
      "net_price                    0\n",
      "cost_price                   0\n",
      "product_id                   0\n",
      "dtype: int64\n",
      "\n",
      "Kiểm tra missing value của bảng Product:\n",
      " product_id        0\n",
      "product_group     0\n",
      "brand_name        0\n",
      "price_group      27\n",
      "listing_price    27\n",
      "dtype: int64\n",
      "\n",
      "Kiểm tra missing value của bảng Channel:\n",
      " site_store      0\n",
      "region          0\n",
      "store_type      0\n",
      "urbanization    0\n",
      "b2b_b2c         0\n",
      "dtype: int64\n",
      "\n",
      "Kiểm tra missing value của bảng COGS:\n",
      " product_id    0\n",
      "amount        0\n",
      "dtype: int64\n"
     ]
    }
   ],
   "execution_count": 17
  },
  {
   "cell_type": "markdown",
   "id": "1e490360",
   "metadata": {
    "id": "1e490360"
   },
   "source": [
    "### Sau khi kiểm tra Missing value ta cần xử lý bảng Product"
   ]
  },
  {
   "cell_type": "code",
   "execution_count": null,
   "id": "9f015c4f",
   "metadata": {
    "id": "9f015c4f",
    "outputId": "d8bb85a6-996d-4ef9-cc25-6b5b3a0f506a"
   },
   "outputs": [
    {
     "data": {
      "text/plain": [
       "<Axes: >"
      ]
     },
     "execution_count": 65,
     "metadata": {},
     "output_type": "execute_result"
    },
    {
     "data": {
      "image/png": "[encoded data removed]",
      "text/plain": [
       "<Figure size 2500x1000 with 2 Axes>"
      ]
     },
     "metadata": {},
     "output_type": "display_data"
    }
   ],
   "source": [
    "msno.matrix(product)"
   ]
  },
  {
   "cell_type": "code",
   "id": "a0e7e9a7",
   "metadata": {
    "id": "a0e7e9a7",
    "ExecuteTime": {
     "end_time": "2025-10-14T16:27:25.239820Z",
     "start_time": "2025-10-14T16:27:25.209926Z"
    }
   },
   "source": [
    "#Thay thế Na vào các giá trị còn trống\n",
    "product.fillna({\n",
    "    'price_group': 'Unknown',     # nhóm giá bị thiếu\n",
    "}, inplace=True)\n",
    "# loại bỏ các dòng còn lại có nhiều NA\n",
    "product.dropna(inplace=True)\n",
    "\n",
    "#Với giá trị số, ta dùng 0 vì có thể hiểu là “chưa có dữ liệu”\n",
    "product.fillna({\n",
    "    'listing_price': 0,     # giá niêm yết chưa có → 0\n",
    "}, inplace=True)"
   ],
   "outputs": [],
   "execution_count": 18
  },
  {
   "cell_type": "code",
   "id": "d8fcbf08",
   "metadata": {
    "id": "d8fcbf08",
    "outputId": "aaa87900-5cfe-421f-b601-f5aa49af4746",
    "ExecuteTime": {
     "end_time": "2025-10-14T16:27:28.639980Z",
     "start_time": "2025-10-14T16:27:28.626920Z"
    }
   },
   "source": [
    "#check null after handling\n",
    "product.isnull().sum()"
   ],
   "outputs": [
    {
     "data": {
      "text/plain": [
       "product_id       0\n",
       "product_group    0\n",
       "brand_name       0\n",
       "price_group      0\n",
       "listing_price    0\n",
       "dtype: int64"
      ]
     },
     "execution_count": 19,
     "metadata": {},
     "output_type": "execute_result"
    }
   ],
   "execution_count": 19
  },
  {
   "cell_type": "markdown",
   "id": "e49c7cac",
   "metadata": {
    "id": "e49c7cac"
   },
   "source": [
    "### DROP DUPLICATE"
   ]
  },
  {
   "cell_type": "code",
   "id": "8ab2794a",
   "metadata": {
    "id": "8ab2794a",
    "outputId": "a55b69f4-844e-4fe5-9cca-65cf33dbfcf1",
    "ExecuteTime": {
     "end_time": "2025-10-14T16:27:36.982586Z",
     "start_time": "2025-10-14T16:27:36.261456Z"
    }
   },
   "source": [
    "# Danh sách các bảng cần xử lý\n",
    "datasets = {\n",
    "    'product': product,\n",
    "    'cogs': cogs,\n",
    "    'channel': channel,\n",
    "    'sales_data': sales_data\n",
    "}\n",
    "\n",
    "for name, df in datasets.items():\n",
    "    print(f\"\\n Kiểm tra bảng: {name}\")\n",
    "    before = len(df)\n",
    "    dup_count = df.duplicated().sum()  # số lượng dòng trùng hoàn toàn\n",
    "\n",
    "    if dup_count > 0:\n",
    "        print(f\" Phát hiện {dup_count} dòng trùng lặp hoàn toàn.\")\n",
    "        df.drop_duplicates(inplace=True, keep='first')  # xóa trùng toàn bộ cột\n",
    "        after = len(df)\n",
    "        print(f\"Đã xoá {before - after} dòng trùng lặp. Còn lại: {after} dòng.\")\n",
    "    else:\n",
    "        print(f\"Không có dòng trùng lặp trong bảng {name}.\")\n"
   ],
   "outputs": [
    {
     "name": "stdout",
     "output_type": "stream",
     "text": [
      "\n",
      " Kiểm tra bảng: product\n",
      "Không có dòng trùng lặp trong bảng product.\n",
      "\n",
      " Kiểm tra bảng: cogs\n",
      " Phát hiện 266756 dòng trùng lặp hoàn toàn.\n",
      "Đã xoá 266756 dòng trùng lặp. Còn lại: 255919 dòng.\n",
      "\n",
      " Kiểm tra bảng: channel\n",
      " Phát hiện 238 dòng trùng lặp hoàn toàn.\n",
      "Đã xoá 238 dòng trùng lặp. Còn lại: 3167 dòng.\n",
      "\n",
      " Kiểm tra bảng: sales_data\n",
      " Phát hiện 22059 dòng trùng lặp hoàn toàn.\n",
      "Đã xoá 22059 dòng trùng lặp. Còn lại: 783475 dòng.\n"
     ]
    }
   ],
   "execution_count": 20
  },
  {
   "cell_type": "code",
   "id": "4cc4df6e",
   "metadata": {
    "id": "4cc4df6e",
    "outputId": "ddbc2660-a5fa-4950-d655-8815b10809e6",
    "ExecuteTime": {
     "end_time": "2025-10-14T16:27:49.051907Z",
     "start_time": "2025-10-14T16:27:49.043602Z"
    }
   },
   "source": [
    "print(\"Bảng cogs \\n\")\n",
    "print(cogs.head())\n",
    "print(\"\\n bảng product\")\n",
    "print(product.head())\n",
    "print(\"\\n bảng channel\")\n",
    "print(channel.head())\n",
    "print(\"\\n bảng sales\")\n",
    "print(sales_data.head())"
   ],
   "outputs": [
    {
     "name": "stdout",
     "output_type": "stream",
     "text": [
      "Bảng cogs \n",
      "\n",
      "                              product_id  amount\n",
      "0  904de55fb0ca414cb86b2e466c9d74c1OOO00   50000\n",
      "2  9e8ecc5d2b104d609e3b53c4724bc96aCAM39  479400\n",
      "3  9225ed5b408343be98a4dc63d4027a26CAM40  479400\n",
      "4  d1410b40bb004d1f9b2c2619d2c933f6CAM41  479400\n",
      "5  81f0a5c55afa4407897b0890f5cc904fCAM42  479400\n",
      "\n",
      " bảng product\n",
      "                              product_id product_group brand_name price_group  \\\n",
      "0  80e1107e5bf74598baffea3a7b6073c5DEN38           SAN     Brand1     200<300   \n",
      "1  c8223e6133a64491a006dc0f95c2bfd9DEN39           SAN     Brand1     200<300   \n",
      "2  bec30e131ee04e49a4c87bc56f135b13DEN40           SAN     Brand1     200<300   \n",
      "3  3f4e265b0ac740e9b9edfd23e0ba1ca5DEN41           SAN     Brand1     200<300   \n",
      "4  53e6284597944ec787e002b631391210DEN42           SAN     Brand1     200<300   \n",
      "\n",
      "   listing_price  \n",
      "0       255273.0  \n",
      "1       255273.0  \n",
      "2       255273.0  \n",
      "3       255273.0  \n",
      "4       255273.0  \n",
      "\n",
      " bảng channel\n",
      "   site_store region store_type urbanization b2b_b2c\n",
      "0    60000003   KVMN   Siêu thị    Nội thành     B2B\n",
      "1    60000006   KVMN   Siêu thị    Nội thành     B2B\n",
      "2    60000007   KVMN   Siêu thị    Nội thành     B2B\n",
      "3    60000008   KVMN   Siêu thị    Nội thành     B2B\n",
      "4    60000534   KVMN   Siêu thị    Nội thành     B2B\n",
      "\n",
      " bảng sales\n",
      "     week    month  site  branch_id channel_id distribution_channel_code  \\\n",
      "0  202201  2022001  1800       1800     Online                       ZF2   \n",
      "1  202204  2022001  1116       1100       CHTT                        FP   \n",
      "2  202201  2022001  1134       1100       CHTT                        FP   \n",
      "3  202204  2022001  1612       1600       CHTT                        FP   \n",
      "4  202202  2022001  1511       1500       CHTT                        FP   \n",
      "\n",
      "   sold_quantity  net_price  cost_price                             product_id  \n",
      "0              1     729000      495720  d77fdd34a14845db97837e059b0aca00TRG42  \n",
      "1              1     325000      221000  e485c0ab7b9b470cbddb80ea7367e734DEN40  \n",
      "2              1     375000      255000  ac88f78262ee4b589bc93b106b67af1dDEN42  \n",
      "3              1     380000      258400  920641c624934c4a8695347737f8f59dDEN35  \n",
      "4              1     400000      272000  6764565f4bb141138af7d9cbf0905d0dHOL33  \n"
     ]
    }
   ],
   "execution_count": 21
  },
  {
   "cell_type": "markdown",
   "id": "1dbef958",
   "metadata": {
    "id": "1dbef958"
   },
   "source": [
    "### DEAL WITH OUTLIERS"
   ]
  },
  {
   "cell_type": "code",
   "id": "2701d107",
   "metadata": {
    "id": "2701d107",
    "outputId": "ff898e63-f2c4-4f27-c551-52359e549023",
    "ExecuteTime": {
     "end_time": "2025-10-14T16:45:31.325476Z",
     "start_time": "2025-10-14T16:45:29.118483Z"
    }
   },
   "source": [
    "def handle_outliers(df, df_name, numeric_cols=None):\n",
    "    \"\"\"\n",
    "    Xử lý outlier nhẹ:\n",
    "    - Không loại bỏ dữ liệu nhiều\n",
    "    - Giới hạn bằng winsorize (theo percentile)\n",
    "    - Không loại nếu chỉ chiếm < 1%\n",
    "    \"\"\"\n",
    "    print(f\"\\nXử lý outlier nhẹ cho bảng: {df_name}\")\n",
    "    df_clean = df.copy()\n",
    "\n",
    "    if numeric_cols is None:\n",
    "        numeric_cols = df_clean.select_dtypes(include=[np.number]).columns.tolist()\n",
    "\n",
    "    for col in numeric_cols:\n",
    "        before = len(df_clean)\n",
    "\n",
    "        # Loại giá trị âm (đã làm trước đó, chỉ đề phòng thôi)\n",
    "        df_clean = df_clean[df_clean[col] >= 0]\n",
    "\n",
    "        # Tính ngưỡng dựa theo percentile (nhẹ hơn IQR)\n",
    "        lower = df_clean[col].quantile(0.005)\n",
    "        upper = df_clean[col].quantile(0.995)\n",
    "\n",
    "        outliers = ((df_clean[col] < lower) | (df_clean[col] > upper)).sum()\n",
    "        ratio = outliers / len(df_clean)\n",
    "\n",
    "        if ratio > 0.02:  # nếu >2% dữ liệu là outlier thì chỉ giới hạn\n",
    "            df_clean[col] = np.clip(df_clean[col], lower, upper)\n",
    "            action = \"giới hạn giá trị (winsorize)\"\n",
    "        else:\n",
    "            df_clean = df_clean[(df_clean[col] >= lower) & (df_clean[col] <= upper)]\n",
    "            action = \"loại bỏ nhẹ\"\n",
    "\n",
    "        after = len(df_clean)\n",
    "        print(f\"{col}: {outliers} outlier ({action}), còn lại {after}/{before} dòng\")\n",
    "\n",
    "    print(f\"Hoàn tất xử lý nhẹ cho {df_name}, còn lại {len(df_clean)} dòng.\")\n",
    "    return df_clean\n",
    "# Áp dụng cho từng bảng\n",
    "cogs_clean = handle_outliers(cogs, \"COGS\", numeric_cols=['amount'])\n",
    "product_clean = handle_outliers(product, \"PRODUCT\", numeric_cols=['listing_price'])\n",
    "channel_clean = handle_outliers(channel, \"CHANNEL\", numeric_cols=[])  # không có biến số\n",
    "sales_clean = handle_outliers(sales_data, \"SALES\", numeric_cols=['sold_quantity', 'cost_price', 'net_price'])\n",
    "\n",
    "# Lưu file kết quả\n",
    "cogs_clean.to_csv(\"Dataset/preprocess/COGS_clean.csv\", index=False, encoding=\"utf-8-sig\")\n",
    "product_clean.to_csv(\"Dataset/preprocess/Product_clean.csv\", index=False, encoding=\"utf-8-sig\")\n",
    "channel_clean.to_csv(\"Dataset/preprocess/Channel_clean.csv\", index=False, encoding=\"utf-8-sig\")\n",
    "sales_clean.to_csv(\"Dataset/preprocess/Sales_clean.csv\", index=False, encoding=\"utf-8-sig\")\n",
    "\n",
    "print(\"\\nĐã lưu toàn bộ các bảng vào thư mục preprocess sau khi xử lý outlier.\")"
   ],
   "outputs": [
    {
     "name": "stdout",
     "output_type": "stream",
     "text": [
      "\n",
      "Xử lý outlier nhẹ cho bảng: COGS\n",
      "amount: 2522 outlier (loại bỏ nhẹ), còn lại 253397/255919 dòng\n",
      "Hoàn tất xử lý nhẹ cho COGS, còn lại 253397 dòng.\n",
      "\n",
      "Xử lý outlier nhẹ cho bảng: PRODUCT\n",
      "listing_price: 532 outlier (loại bỏ nhẹ), còn lại 94308/94840 dòng\n",
      "Hoàn tất xử lý nhẹ cho PRODUCT, còn lại 94308 dòng.\n",
      "\n",
      "Xử lý outlier nhẹ cho bảng: CHANNEL\n",
      "Hoàn tất xử lý nhẹ cho CHANNEL, còn lại 3167 dòng.\n",
      "\n",
      "Xử lý outlier nhẹ cho bảng: SALES\n",
      "sold_quantity: 3450 outlier (loại bỏ nhẹ), còn lại 780025/783475 dòng\n",
      "cost_price: 7562 outlier (loại bỏ nhẹ), còn lại 772463/780025 dòng\n",
      "net_price: 7547 outlier (loại bỏ nhẹ), còn lại 764916/772463 dòng\n",
      "Hoàn tất xử lý nhẹ cho SALES, còn lại 764916 dòng.\n",
      "\n",
      "Đã lưu toàn bộ các bảng vào thư mục preprocess sau khi xử lý outlier.\n"
     ]
    }
   ],
   "execution_count": 24
  },
  {
   "cell_type": "markdown",
   "id": "25270413",
   "metadata": {
    "id": "25270413"
   },
   "source": [
    "------------------------------------------------------------------------------------------------------------------"
   ]
  },
  {
   "cell_type": "markdown",
   "id": "7ce2abb6",
   "metadata": {
    "id": "7ce2abb6"
   },
   "source": [
    "------------------------------------------------------------------------------------------------------------------"
   ]
  },
  {
   "cell_type": "markdown",
   "id": "db233dfc",
   "metadata": {
    "id": "db233dfc"
   },
   "source": [
    "------------------------------------------------------------------------------------------------------------------"
   ]
  },
  {
   "cell_type": "markdown",
   "id": "4aeea038",
   "metadata": {
    "id": "4aeea038"
   },
   "source": [
    "------------------------------------------------------------------------------------------------------------------"
   ]
  },
  {
   "cell_type": "markdown",
   "id": "3d4fc126",
   "metadata": {
    "id": "3d4fc126"
   },
   "source": [
    "# TỪ KHÚC DƯỚI NÀY TÔI XỬ LÍ ĐẸP LẠI SAU NHE\n",
    "CHECK XEM DATA SAU KHI PHÂN TÍCH VÀ XỬ LÍ MISSING VALUE VỚI OUTLIER OKE CHUA HOI"
   ]
  },
  {
   "cell_type": "code",
   "id": "24552080",
   "metadata": {
    "id": "24552080",
    "outputId": "a663a5db-e601-488c-bbf4-06aac9a04cda",
    "ExecuteTime": {
     "end_time": "2025-10-14T16:46:27.178558Z",
     "start_time": "2025-10-14T16:46:26.980584Z"
    }
   },
   "source": [
    "# Vẽ histogram để xem phân bố giá\n",
    "df['net_price'].hist(bins=50, figsize=(8,4))\n",
    "plt.title(\"Figure 4.3. Distribution of Price (Before Log Transform)\")\n",
    "plt.xlabel(\"Net Price\")\n",
    "plt.ylabel(\"Frequency\")\n",
    "plt.show()"
   ],
   "outputs": [
    {
     "data": {
      "text/plain": [
       "<Figure size 800x400 with 1 Axes>"
      ],
      "image/png": "[encoded data removed]"
     },
     "metadata": {},
     "output_type": "display_data"
    }
   ],
   "execution_count": 25
  },
  {
   "cell_type": "code",
   "execution_count": null,
   "id": "91998bff",
   "metadata": {
    "id": "91998bff",
    "outputId": "e1c99aba-22eb-4441-e698-4f1e30fa2796"
   },
   "outputs": [
    {
     "data": {
      "text/plain": [
       "(783475, 10)"
      ]
     },
     "execution_count": 19,
     "metadata": {},
     "output_type": "execute_result"
    }
   ],
   "source": [
    "df.shape"
   ]
  },
  {
   "cell_type": "markdown",
   "id": "9a102618",
   "metadata": {
    "id": "9a102618"
   },
   "source": [
    "## Nhận diện các outlier qua box plot và histogram"
   ]
  },
  {
   "cell_type": "code",
   "id": "c7090d48",
   "metadata": {
    "id": "c7090d48",
    "outputId": "d68a6275-9bbd-4f54-c92f-715beab855ce",
    "ExecuteTime": {
     "end_time": "2025-10-14T16:46:32.616787Z",
     "start_time": "2025-10-14T16:46:32.303677Z"
    }
   },
   "source": [
    "import matplotlib.pyplot as plt\n",
    "\n",
    "# Chọn các cột định lượng quan trọng\n",
    "num_cols = ['sold_quantity', 'net_price', 'listing_price', 'cost_price', 'revenue', 'profit', 'discount_rate']\n",
    "\n",
    "plt.figure(figsize=(14, 8))\n",
    "df[num_cols].boxplot()\n",
    "plt.title(\"Phân bố dữ liệu và Outlier của các biến định lượng\")\n",
    "plt.ylabel(\"Giá trị\")\n",
    "plt.xticks(rotation=30)\n",
    "plt.show()\n"
   ],
   "outputs": [
    {
     "ename": "KeyError",
     "evalue": "\"['listing_price', 'revenue', 'profit', 'discount_rate'] not in index\"",
     "output_type": "error",
     "traceback": [
      "\u001B[31m---------------------------------------------------------------------------\u001B[39m",
      "\u001B[31mKeyError\u001B[39m                                  Traceback (most recent call last)",
      "\u001B[36mCell\u001B[39m\u001B[36m \u001B[39m\u001B[32mIn[26]\u001B[39m\u001B[32m, line 7\u001B[39m\n\u001B[32m      4\u001B[39m num_cols = [\u001B[33m'\u001B[39m\u001B[33msold_quantity\u001B[39m\u001B[33m'\u001B[39m, \u001B[33m'\u001B[39m\u001B[33mnet_price\u001B[39m\u001B[33m'\u001B[39m, \u001B[33m'\u001B[39m\u001B[33mlisting_price\u001B[39m\u001B[33m'\u001B[39m, \u001B[33m'\u001B[39m\u001B[33mcost_price\u001B[39m\u001B[33m'\u001B[39m, \u001B[33m'\u001B[39m\u001B[33mrevenue\u001B[39m\u001B[33m'\u001B[39m, \u001B[33m'\u001B[39m\u001B[33mprofit\u001B[39m\u001B[33m'\u001B[39m, \u001B[33m'\u001B[39m\u001B[33mdiscount_rate\u001B[39m\u001B[33m'\u001B[39m]\n\u001B[32m      6\u001B[39m plt.figure(figsize=(\u001B[32m14\u001B[39m, \u001B[32m8\u001B[39m))\n\u001B[32m----> \u001B[39m\u001B[32m7\u001B[39m \u001B[43mdf\u001B[49m\u001B[43m[\u001B[49m\u001B[43mnum_cols\u001B[49m\u001B[43m]\u001B[49m.boxplot()\n\u001B[32m      8\u001B[39m plt.title(\u001B[33m\"\u001B[39m\u001B[33mPhân bố dữ liệu và Outlier của các biến định lượng\u001B[39m\u001B[33m\"\u001B[39m)\n\u001B[32m      9\u001B[39m plt.ylabel(\u001B[33m\"\u001B[39m\u001B[33mGiá trị\u001B[39m\u001B[33m\"\u001B[39m)\n",
      "\u001B[36mFile \u001B[39m\u001B[32mD:\\HK7\\ML\\DOAN\\.venv\\Lib\\site-packages\\pandas\\core\\frame.py:4119\u001B[39m, in \u001B[36mDataFrame.__getitem__\u001B[39m\u001B[34m(self, key)\u001B[39m\n\u001B[32m   4117\u001B[39m     \u001B[38;5;28;01mif\u001B[39;00m is_iterator(key):\n\u001B[32m   4118\u001B[39m         key = \u001B[38;5;28mlist\u001B[39m(key)\n\u001B[32m-> \u001B[39m\u001B[32m4119\u001B[39m     indexer = \u001B[38;5;28;43mself\u001B[39;49m\u001B[43m.\u001B[49m\u001B[43mcolumns\u001B[49m\u001B[43m.\u001B[49m\u001B[43m_get_indexer_strict\u001B[49m\u001B[43m(\u001B[49m\u001B[43mkey\u001B[49m\u001B[43m,\u001B[49m\u001B[43m \u001B[49m\u001B[33;43m\"\u001B[39;49m\u001B[33;43mcolumns\u001B[39;49m\u001B[33;43m\"\u001B[39;49m\u001B[43m)\u001B[49m[\u001B[32m1\u001B[39m]\n\u001B[32m   4121\u001B[39m \u001B[38;5;66;03m# take() does not accept boolean indexers\u001B[39;00m\n\u001B[32m   4122\u001B[39m \u001B[38;5;28;01mif\u001B[39;00m \u001B[38;5;28mgetattr\u001B[39m(indexer, \u001B[33m\"\u001B[39m\u001B[33mdtype\u001B[39m\u001B[33m\"\u001B[39m, \u001B[38;5;28;01mNone\u001B[39;00m) == \u001B[38;5;28mbool\u001B[39m:\n",
      "\u001B[36mFile \u001B[39m\u001B[32mD:\\HK7\\ML\\DOAN\\.venv\\Lib\\site-packages\\pandas\\core\\indexes\\base.py:6212\u001B[39m, in \u001B[36mIndex._get_indexer_strict\u001B[39m\u001B[34m(self, key, axis_name)\u001B[39m\n\u001B[32m   6209\u001B[39m \u001B[38;5;28;01melse\u001B[39;00m:\n\u001B[32m   6210\u001B[39m     keyarr, indexer, new_indexer = \u001B[38;5;28mself\u001B[39m._reindex_non_unique(keyarr)\n\u001B[32m-> \u001B[39m\u001B[32m6212\u001B[39m \u001B[38;5;28;43mself\u001B[39;49m\u001B[43m.\u001B[49m\u001B[43m_raise_if_missing\u001B[49m\u001B[43m(\u001B[49m\u001B[43mkeyarr\u001B[49m\u001B[43m,\u001B[49m\u001B[43m \u001B[49m\u001B[43mindexer\u001B[49m\u001B[43m,\u001B[49m\u001B[43m \u001B[49m\u001B[43maxis_name\u001B[49m\u001B[43m)\u001B[49m\n\u001B[32m   6214\u001B[39m keyarr = \u001B[38;5;28mself\u001B[39m.take(indexer)\n\u001B[32m   6215\u001B[39m \u001B[38;5;28;01mif\u001B[39;00m \u001B[38;5;28misinstance\u001B[39m(key, Index):\n\u001B[32m   6216\u001B[39m     \u001B[38;5;66;03m# GH 42790 - Preserve name from an Index\u001B[39;00m\n",
      "\u001B[36mFile \u001B[39m\u001B[32mD:\\HK7\\ML\\DOAN\\.venv\\Lib\\site-packages\\pandas\\core\\indexes\\base.py:6264\u001B[39m, in \u001B[36mIndex._raise_if_missing\u001B[39m\u001B[34m(self, key, indexer, axis_name)\u001B[39m\n\u001B[32m   6261\u001B[39m     \u001B[38;5;28;01mraise\u001B[39;00m \u001B[38;5;167;01mKeyError\u001B[39;00m(\u001B[33mf\u001B[39m\u001B[33m\"\u001B[39m\u001B[33mNone of [\u001B[39m\u001B[38;5;132;01m{\u001B[39;00mkey\u001B[38;5;132;01m}\u001B[39;00m\u001B[33m] are in the [\u001B[39m\u001B[38;5;132;01m{\u001B[39;00maxis_name\u001B[38;5;132;01m}\u001B[39;00m\u001B[33m]\u001B[39m\u001B[33m\"\u001B[39m)\n\u001B[32m   6263\u001B[39m not_found = \u001B[38;5;28mlist\u001B[39m(ensure_index(key)[missing_mask.nonzero()[\u001B[32m0\u001B[39m]].unique())\n\u001B[32m-> \u001B[39m\u001B[32m6264\u001B[39m \u001B[38;5;28;01mraise\u001B[39;00m \u001B[38;5;167;01mKeyError\u001B[39;00m(\u001B[33mf\u001B[39m\u001B[33m\"\u001B[39m\u001B[38;5;132;01m{\u001B[39;00mnot_found\u001B[38;5;132;01m}\u001B[39;00m\u001B[33m not in index\u001B[39m\u001B[33m\"\u001B[39m)\n",
      "\u001B[31mKeyError\u001B[39m: \"['listing_price', 'revenue', 'profit', 'discount_rate'] not in index\""
     ]
    },
    {
     "data": {
      "text/plain": [
       "<Figure size 1400x800 with 0 Axes>"
      ]
     },
     "metadata": {},
     "output_type": "display_data"
    }
   ],
   "execution_count": 26
  },
  {
   "cell_type": "code",
   "execution_count": null,
   "id": "5c265b30",
   "metadata": {
    "id": "5c265b30",
    "outputId": "2a9c60db-1ea6-41f2-bf06-541293501f39"
   },
   "outputs": [
    {
     "data": {
      "image/png": "[encoded data removed]",
      "text/plain": [
       "<Figure size 1400x1000 with 9 Axes>"
      ]
     },
     "metadata": {},
     "output_type": "display_data"
    }
   ],
   "source": [
    "df[num_cols].hist(figsize=(14,10), bins=40)\n",
    "plt.suptitle(\"Phân bố các biến định lượng (trước khi loại bỏ outlier)\")\n",
    "plt.show()\n"
   ]
  },
  {
   "cell_type": "code",
   "execution_count": null,
   "id": "7d69355d",
   "metadata": {
    "id": "7d69355d",
    "outputId": "3645e03b-9250-45de-a0b8-7b2154ef308a"
   },
   "outputs": [
    {
     "name": "stdout",
     "output_type": "stream",
     "text": [
      "sold_quantity: 144235 dòng bị loại (17.34%)\n",
      "net_price: 42999 dòng bị loại (6.25%)\n",
      "listing_price: 24038 dòng bị loại (3.73%)\n",
      "revenue: 14502 dòng bị loại (2.34%)\n",
      "profit: 1744 dòng bị loại (0.29%)\n"
     ]
    }
   ],
   "source": [
    "def remove_outliers_iqr(df, cols):\n",
    "    for col in cols:\n",
    "        Q1 = df[col].quantile(0.25)\n",
    "        Q3 = df[col].quantile(0.75)\n",
    "        IQR = Q3 - Q1\n",
    "        lower_bound = Q1 - 1.5 * IQR\n",
    "        upper_bound = Q3 + 1.5 * IQR\n",
    "        before = len(df)\n",
    "        df = df[(df[col] >= lower_bound) & (df[col] <= upper_bound)]\n",
    "        after = len(df)\n",
    "        print(f\"{col}: {before - after} dòng bị loại ({round((before - after)/before*100,2)}%)\")\n",
    "    return df\n",
    "\n",
    "\n",
    "# Áp dụng cho các biến định lượng chính\n",
    "cols_iqr = ['sold_quantity', 'net_price', 'listing_price', 'revenue', 'profit']\n",
    "df_clean = remove_outliers_iqr(df, cols_iqr)"
   ]
  },
  {
   "cell_type": "code",
   "execution_count": null,
   "id": "ebcf0f33",
   "metadata": {
    "id": "ebcf0f33"
   },
   "outputs": [],
   "source": [
    "df_clean['discount_rate'] = df_clean['discount_rate'].clip(lower=0, upper=1)\n",
    "df_clean['gross_margin'] = df_clean['gross_margin'].clip(lower=-0.2, upper=1)"
   ]
  },
  {
   "cell_type": "code",
   "execution_count": null,
   "id": "c17ed93d",
   "metadata": {
    "id": "c17ed93d",
    "outputId": "d421d3ea-d5e5-4321-c315-5f8ca7f284bf"
   },
   "outputs": [
    {
     "name": "stdout",
     "output_type": "stream",
     "text": [
      "Sau khi xử lý: (604438, 23)\n"
     ]
    },
    {
     "data": {
      "text/html": [
       "<div>\n",
       "<style scoped>\n",
       "    .dataframe tbody tr th:only-of-type {\n",
       "        vertical-align: middle;\n",
       "    }\n",
       "\n",
       "    .dataframe tbody tr th {\n",
       "        vertical-align: top;\n",
       "    }\n",
       "\n",
       "    .dataframe thead th {\n",
       "        text-align: right;\n",
       "    }\n",
       "</style>\n",
       "<table border=\"1\" class=\"dataframe\">\n",
       "  <thead>\n",
       "    <tr style=\"text-align: right;\">\n",
       "      <th></th>\n",
       "      <th>month</th>\n",
       "      <th>week</th>\n",
       "      <th>site</th>\n",
       "      <th>sold_quantity</th>\n",
       "      <th>cost_price</th>\n",
       "      <th>net_price</th>\n",
       "      <th>listing_price</th>\n",
       "      <th>cost_std</th>\n",
       "      <th>year</th>\n",
       "      <th>week_in_year</th>\n",
       "      <th>month_in_year</th>\n",
       "      <th>revenue</th>\n",
       "      <th>profit</th>\n",
       "      <th>gross_margin</th>\n",
       "      <th>discount_rate</th>\n",
       "    </tr>\n",
       "  </thead>\n",
       "  <tbody>\n",
       "    <tr>\n",
       "      <th>count</th>\n",
       "      <td>6.044380e+05</td>\n",
       "      <td>604438.000000</td>\n",
       "      <td>604438.000000</td>\n",
       "      <td>604438.0</td>\n",
       "      <td>604438.000000</td>\n",
       "      <td>604438.000000</td>\n",
       "      <td>604438.000000</td>\n",
       "      <td>6.044380e+05</td>\n",
       "      <td>604438.000000</td>\n",
       "      <td>604438.000000</td>\n",
       "      <td>604438.000000</td>\n",
       "      <td>604438.000000</td>\n",
       "      <td>604438.000000</td>\n",
       "      <td>604438.000000</td>\n",
       "      <td>604438.000000</td>\n",
       "    </tr>\n",
       "    <tr>\n",
       "      <th>mean</th>\n",
       "      <td>2.022311e+06</td>\n",
       "      <td>202252.741960</td>\n",
       "      <td>1286.689482</td>\n",
       "      <td>1.0</td>\n",
       "      <td>184984.133311</td>\n",
       "      <td>259904.726523</td>\n",
       "      <td>262402.369441</td>\n",
       "      <td>1.888223e+05</td>\n",
       "      <td>2022.299816</td>\n",
       "      <td>22.760391</td>\n",
       "      <td>5.611644</td>\n",
       "      <td>259904.726523</td>\n",
       "      <td>74920.593212</td>\n",
       "      <td>0.280930</td>\n",
       "      <td>0.050765</td>\n",
       "    </tr>\n",
       "    <tr>\n",
       "      <th>std</th>\n",
       "      <td>4.595540e+02</td>\n",
       "      <td>44.056197</td>\n",
       "      <td>211.158361</td>\n",
       "      <td>0.0</td>\n",
       "      <td>99580.175992</td>\n",
       "      <td>142966.642495</td>\n",
       "      <td>146208.891679</td>\n",
       "      <td>1.018146e+05</td>\n",
       "      <td>0.470948</td>\n",
       "      <td>15.126930</td>\n",
       "      <td>3.451957</td>\n",
       "      <td>142966.642495</td>\n",
       "      <td>49770.207525</td>\n",
       "      <td>0.087229</td>\n",
       "      <td>0.088340</td>\n",
       "    </tr>\n",
       "    <tr>\n",
       "      <th>min</th>\n",
       "      <td>2.022001e+06</td>\n",
       "      <td>202153.000000</td>\n",
       "      <td>1100.000000</td>\n",
       "      <td>1.0</td>\n",
       "      <td>4550.000000</td>\n",
       "      <td>0.000000</td>\n",
       "      <td>6500.000000</td>\n",
       "      <td>4.550000e+03</td>\n",
       "      <td>2021.000000</td>\n",
       "      <td>1.000000</td>\n",
       "      <td>1.000000</td>\n",
       "      <td>0.000000</td>\n",
       "      <td>-88400.000000</td>\n",
       "      <td>-0.200000</td>\n",
       "      <td>0.000000</td>\n",
       "    </tr>\n",
       "    <tr>\n",
       "      <th>25%</th>\n",
       "      <td>2.022005e+06</td>\n",
       "      <td>202218.000000</td>\n",
       "      <td>1121.000000</td>\n",
       "      <td>1.0</td>\n",
       "      <td>110160.000000</td>\n",
       "      <td>144000.000000</td>\n",
       "      <td>147273.000000</td>\n",
       "      <td>1.110667e+05</td>\n",
       "      <td>2022.000000</td>\n",
       "      <td>9.000000</td>\n",
       "      <td>3.000000</td>\n",
       "      <td>144000.000000</td>\n",
       "      <td>30720.000000</td>\n",
       "      <td>0.307636</td>\n",
       "      <td>0.000000</td>\n",
       "    </tr>\n",
       "    <tr>\n",
       "      <th>50%</th>\n",
       "      <td>2.022009e+06</td>\n",
       "      <td>202236.000000</td>\n",
       "      <td>1200.000000</td>\n",
       "      <td>1.0</td>\n",
       "      <td>186938.000000</td>\n",
       "      <td>250000.000000</td>\n",
       "      <td>260182.000000</td>\n",
       "      <td>1.915333e+05</td>\n",
       "      <td>2022.000000</td>\n",
       "      <td>22.000000</td>\n",
       "      <td>5.000000</td>\n",
       "      <td>250000.000000</td>\n",
       "      <td>64000.000000</td>\n",
       "      <td>0.320000</td>\n",
       "      <td>0.000579</td>\n",
       "    </tr>\n",
       "    <tr>\n",
       "      <th>75%</th>\n",
       "      <td>2.023001e+06</td>\n",
       "      <td>202303.000000</td>\n",
       "      <td>1505.000000</td>\n",
       "      <td>1.0</td>\n",
       "      <td>250364.000000</td>\n",
       "      <td>355000.000000</td>\n",
       "      <td>358364.000000</td>\n",
       "      <td>2.550000e+05</td>\n",
       "      <td>2023.000000</td>\n",
       "      <td>34.000000</td>\n",
       "      <td>8.000000</td>\n",
       "      <td>355000.000000</td>\n",
       "      <td>110328.000000</td>\n",
       "      <td>0.320000</td>\n",
       "      <td>0.066138</td>\n",
       "    </tr>\n",
       "    <tr>\n",
       "      <th>max</th>\n",
       "      <td>2.023007e+06</td>\n",
       "      <td>202352.000000</td>\n",
       "      <td>2001.000000</td>\n",
       "      <td>1.0</td>\n",
       "      <td>699720.000000</td>\n",
       "      <td>692000.000000</td>\n",
       "      <td>736364.000000</td>\n",
       "      <td>1.239380e+06</td>\n",
       "      <td>2023.000000</td>\n",
       "      <td>53.000000</td>\n",
       "      <td>12.000000</td>\n",
       "      <td>692000.000000</td>\n",
       "      <td>229540.000000</td>\n",
       "      <td>0.511964</td>\n",
       "      <td>1.000000</td>\n",
       "    </tr>\n",
       "  </tbody>\n",
       "</table>\n",
       "</div>"
      ],
      "text/plain": [
       "              month           week           site  sold_quantity  \\\n",
       "count  6.044380e+05  604438.000000  604438.000000       604438.0   \n",
       "mean   2.022311e+06  202252.741960    1286.689482            1.0   \n",
       "std    4.595540e+02      44.056197     211.158361            0.0   \n",
       "min    2.022001e+06  202153.000000    1100.000000            1.0   \n",
       "25%    2.022005e+06  202218.000000    1121.000000            1.0   \n",
       "50%    2.022009e+06  202236.000000    1200.000000            1.0   \n",
       "75%    2.023001e+06  202303.000000    1505.000000            1.0   \n",
       "max    2.023007e+06  202352.000000    2001.000000            1.0   \n",
       "\n",
       "          cost_price      net_price  listing_price      cost_std  \\\n",
       "count  604438.000000  604438.000000  604438.000000  6.044380e+05   \n",
       "mean   184984.133311  259904.726523  262402.369441  1.888223e+05   \n",
       "std     99580.175992  142966.642495  146208.891679  1.018146e+05   \n",
       "min      4550.000000       0.000000    6500.000000  4.550000e+03   \n",
       "25%    110160.000000  144000.000000  147273.000000  1.110667e+05   \n",
       "50%    186938.000000  250000.000000  260182.000000  1.915333e+05   \n",
       "75%    250364.000000  355000.000000  358364.000000  2.550000e+05   \n",
       "max    699720.000000  692000.000000  736364.000000  1.239380e+06   \n",
       "\n",
       "                year   week_in_year  month_in_year        revenue  \\\n",
       "count  604438.000000  604438.000000  604438.000000  604438.000000   \n",
       "mean     2022.299816      22.760391       5.611644  259904.726523   \n",
       "std         0.470948      15.126930       3.451957  142966.642495   \n",
       "min      2021.000000       1.000000       1.000000       0.000000   \n",
       "25%      2022.000000       9.000000       3.000000  144000.000000   \n",
       "50%      2022.000000      22.000000       5.000000  250000.000000   \n",
       "75%      2023.000000      34.000000       8.000000  355000.000000   \n",
       "max      2023.000000      53.000000      12.000000  692000.000000   \n",
       "\n",
       "              profit   gross_margin  discount_rate  \n",
       "count  604438.000000  604438.000000  604438.000000  \n",
       "mean    74920.593212       0.280930       0.050765  \n",
       "std     49770.207525       0.087229       0.088340  \n",
       "min    -88400.000000      -0.200000       0.000000  \n",
       "25%     30720.000000       0.307636       0.000000  \n",
       "50%     64000.000000       0.320000       0.000579  \n",
       "75%    110328.000000       0.320000       0.066138  \n",
       "max    229540.000000       0.511964       1.000000  "
      ]
     },
     "execution_count": 87,
     "metadata": {},
     "output_type": "execute_result"
    }
   ],
   "source": [
    "print(\"Sau khi xử lý:\", df_clean.shape)\n",
    "df_clean.describe()"
   ]
  },
  {
   "cell_type": "code",
   "execution_count": null,
   "id": "09a4b63e",
   "metadata": {
    "id": "09a4b63e",
    "outputId": "91c33c60-a3bb-4b45-e697-e1326e98229e"
   },
   "outputs": [
    {
     "data": {
      "text/html": [
       "<div>\n",
       "<style scoped>\n",
       "    .dataframe tbody tr th:only-of-type {\n",
       "        vertical-align: middle;\n",
       "    }\n",
       "\n",
       "    .dataframe tbody tr th {\n",
       "        vertical-align: top;\n",
       "    }\n",
       "\n",
       "    .dataframe thead th {\n",
       "        text-align: right;\n",
       "    }\n",
       "</style>\n",
       "<table border=\"1\" class=\"dataframe\">\n",
       "  <thead>\n",
       "    <tr style=\"text-align: right;\">\n",
       "      <th></th>\n",
       "      <th>month</th>\n",
       "      <th>week</th>\n",
       "      <th>site</th>\n",
       "      <th>sold_quantity</th>\n",
       "      <th>cost_price</th>\n",
       "      <th>net_price</th>\n",
       "      <th>product_id</th>\n",
       "      <th>listing_price</th>\n",
       "      <th>price_group</th>\n",
       "      <th>product_group</th>\n",
       "      <th>...</th>\n",
       "      <th>region</th>\n",
       "      <th>store_type</th>\n",
       "      <th>urbanization</th>\n",
       "      <th>year</th>\n",
       "      <th>week_in_year</th>\n",
       "      <th>month_in_year</th>\n",
       "      <th>revenue</th>\n",
       "      <th>profit</th>\n",
       "      <th>gross_margin</th>\n",
       "      <th>discount_rate</th>\n",
       "    </tr>\n",
       "  </thead>\n",
       "  <tbody>\n",
       "    <tr>\n",
       "      <th>401659</th>\n",
       "      <td>2023005</td>\n",
       "      <td>202320</td>\n",
       "      <td>1512</td>\n",
       "      <td>1</td>\n",
       "      <td>70720</td>\n",
       "      <td>104000</td>\n",
       "      <td>b1535a371c0f4f339c896446b5a99c29XNH37</td>\n",
       "      <td>102109.0</td>\n",
       "      <td>100&lt;200</td>\n",
       "      <td>DEP</td>\n",
       "      <td>...</td>\n",
       "      <td>KVMT</td>\n",
       "      <td>Độc lập</td>\n",
       "      <td>Nội thành</td>\n",
       "      <td>2023</td>\n",
       "      <td>20</td>\n",
       "      <td>5</td>\n",
       "      <td>104000.0</td>\n",
       "      <td>33280.0</td>\n",
       "      <td>0.320000</td>\n",
       "      <td>0.000000</td>\n",
       "    </tr>\n",
       "    <tr>\n",
       "      <th>617217</th>\n",
       "      <td>2022008</td>\n",
       "      <td>202235</td>\n",
       "      <td>1604</td>\n",
       "      <td>1</td>\n",
       "      <td>201027</td>\n",
       "      <td>278000</td>\n",
       "      <td>d78f8e015288485398648dfa43587e21CAM33</td>\n",
       "      <td>328909.0</td>\n",
       "      <td>300&lt;600</td>\n",
       "      <td>SAN</td>\n",
       "      <td>...</td>\n",
       "      <td>KVTN</td>\n",
       "      <td>Độc lập</td>\n",
       "      <td>Nội thành</td>\n",
       "      <td>2022</td>\n",
       "      <td>35</td>\n",
       "      <td>8</td>\n",
       "      <td>278000.0</td>\n",
       "      <td>76973.0</td>\n",
       "      <td>0.276881</td>\n",
       "      <td>0.154781</td>\n",
       "    </tr>\n",
       "    <tr>\n",
       "      <th>663997</th>\n",
       "      <td>2022009</td>\n",
       "      <td>202237</td>\n",
       "      <td>1800</td>\n",
       "      <td>4</td>\n",
       "      <td>2267292</td>\n",
       "      <td>3150872</td>\n",
       "      <td>a8012542810c4208a319d1e4dea10050XAM37</td>\n",
       "      <td>794291.0</td>\n",
       "      <td>600&lt;900</td>\n",
       "      <td>GIA</td>\n",
       "      <td>...</td>\n",
       "      <td>Khác</td>\n",
       "      <td>Online</td>\n",
       "      <td>Khác</td>\n",
       "      <td>2022</td>\n",
       "      <td>37</td>\n",
       "      <td>9</td>\n",
       "      <td>12603488.0</td>\n",
       "      <td>3534320.0</td>\n",
       "      <td>0.280424</td>\n",
       "      <td>0.000000</td>\n",
       "    </tr>\n",
       "  </tbody>\n",
       "</table>\n",
       "<p>3 rows × 23 columns</p>\n",
       "</div>"
      ],
      "text/plain": [
       "          month    week  site  sold_quantity  cost_price  net_price  \\\n",
       "401659  2023005  202320  1512              1       70720     104000   \n",
       "617217  2022008  202235  1604              1      201027     278000   \n",
       "663997  2022009  202237  1800              4     2267292    3150872   \n",
       "\n",
       "                                   product_id  listing_price price_group  \\\n",
       "401659  b1535a371c0f4f339c896446b5a99c29XNH37       102109.0     100<200   \n",
       "617217  d78f8e015288485398648dfa43587e21CAM33       328909.0     300<600   \n",
       "663997  a8012542810c4208a319d1e4dea10050XAM37       794291.0     600<900   \n",
       "\n",
       "       product_group  ... region  store_type urbanization  year week_in_year  \\\n",
       "401659           DEP  ...   KVMT     Độc lập    Nội thành  2023           20   \n",
       "617217           SAN  ...   KVTN     Độc lập    Nội thành  2022           35   \n",
       "663997           GIA  ...   Khác      Online         Khác  2022           37   \n",
       "\n",
       "       month_in_year     revenue     profit  gross_margin  discount_rate  \n",
       "401659             5    104000.0    33280.0      0.320000       0.000000  \n",
       "617217             8    278000.0    76973.0      0.276881       0.154781  \n",
       "663997             9  12603488.0  3534320.0      0.280424       0.000000  \n",
       "\n",
       "[3 rows x 23 columns]"
      ]
     },
     "execution_count": 88,
     "metadata": {},
     "output_type": "execute_result"
    }
   ],
   "source": [
    "df.sample(3)"
   ]
  },
  {
   "cell_type": "code",
   "execution_count": null,
   "id": "0c07838e",
   "metadata": {
    "id": "0c07838e",
    "outputId": "38c35154-d4ca-4cd6-f537-9fc4efd3bbb6"
   },
   "outputs": [
    {
     "data": {
      "text/html": [
       "<div>\n",
       "<style scoped>\n",
       "    .dataframe tbody tr th:only-of-type {\n",
       "        vertical-align: middle;\n",
       "    }\n",
       "\n",
       "    .dataframe tbody tr th {\n",
       "        vertical-align: top;\n",
       "    }\n",
       "\n",
       "    .dataframe thead th {\n",
       "        text-align: right;\n",
       "    }\n",
       "</style>\n",
       "<table border=\"1\" class=\"dataframe\">\n",
       "  <thead>\n",
       "    <tr style=\"text-align: right;\">\n",
       "      <th></th>\n",
       "      <th>month</th>\n",
       "      <th>week</th>\n",
       "      <th>site</th>\n",
       "      <th>sold_quantity</th>\n",
       "      <th>cost_price</th>\n",
       "      <th>net_price</th>\n",
       "      <th>product_id</th>\n",
       "      <th>listing_price</th>\n",
       "      <th>price_group</th>\n",
       "      <th>product_group</th>\n",
       "      <th>...</th>\n",
       "      <th>region</th>\n",
       "      <th>store_type</th>\n",
       "      <th>urbanization</th>\n",
       "      <th>year</th>\n",
       "      <th>week_in_year</th>\n",
       "      <th>month_in_year</th>\n",
       "      <th>revenue</th>\n",
       "      <th>profit</th>\n",
       "      <th>gross_margin</th>\n",
       "      <th>discount_rate</th>\n",
       "    </tr>\n",
       "  </thead>\n",
       "  <tbody>\n",
       "    <tr>\n",
       "      <th>336996</th>\n",
       "      <td>2023004</td>\n",
       "      <td>202316</td>\n",
       "      <td>1209</td>\n",
       "      <td>1</td>\n",
       "      <td>57800</td>\n",
       "      <td>60000</td>\n",
       "      <td>c49dc1f7f1db44a4a01f524b11458b7dXNH34</td>\n",
       "      <td>78545.0</td>\n",
       "      <td>70&lt;100</td>\n",
       "      <td>DEP</td>\n",
       "      <td>...</td>\n",
       "      <td>KVMB</td>\n",
       "      <td>Độc lập</td>\n",
       "      <td>Nội thành</td>\n",
       "      <td>2023</td>\n",
       "      <td>16</td>\n",
       "      <td>4</td>\n",
       "      <td>60000.0</td>\n",
       "      <td>2200.0</td>\n",
       "      <td>0.036667</td>\n",
       "      <td>0.236107</td>\n",
       "    </tr>\n",
       "    <tr>\n",
       "      <th>33621</th>\n",
       "      <td>2022001</td>\n",
       "      <td>202204</td>\n",
       "      <td>1229</td>\n",
       "      <td>1</td>\n",
       "      <td>65280</td>\n",
       "      <td>96000</td>\n",
       "      <td>2249df1ae1914e37928f0436a7c417dfXAM41</td>\n",
       "      <td>104073.0</td>\n",
       "      <td>100&lt;200</td>\n",
       "      <td>DEP</td>\n",
       "      <td>...</td>\n",
       "      <td>KVMB</td>\n",
       "      <td>Độc lập</td>\n",
       "      <td>Nội thành</td>\n",
       "      <td>2022</td>\n",
       "      <td>4</td>\n",
       "      <td>1</td>\n",
       "      <td>96000.0</td>\n",
       "      <td>30720.0</td>\n",
       "      <td>0.320000</td>\n",
       "      <td>0.077571</td>\n",
       "    </tr>\n",
       "    <tr>\n",
       "      <th>92740</th>\n",
       "      <td>2023001</td>\n",
       "      <td>202303</td>\n",
       "      <td>1521</td>\n",
       "      <td>1</td>\n",
       "      <td>278800</td>\n",
       "      <td>410000</td>\n",
       "      <td>d951cf31c8cc47409e77a5bf6bb8ca27DEN39</td>\n",
       "      <td>387818.0</td>\n",
       "      <td>300&lt;600</td>\n",
       "      <td>SAN</td>\n",
       "      <td>...</td>\n",
       "      <td>KVMT</td>\n",
       "      <td>Độc lập</td>\n",
       "      <td>Nội thành</td>\n",
       "      <td>2023</td>\n",
       "      <td>3</td>\n",
       "      <td>1</td>\n",
       "      <td>410000.0</td>\n",
       "      <td>131200.0</td>\n",
       "      <td>0.320000</td>\n",
       "      <td>0.000000</td>\n",
       "    </tr>\n",
       "  </tbody>\n",
       "</table>\n",
       "<p>3 rows × 23 columns</p>\n",
       "</div>"
      ],
      "text/plain": [
       "          month    week  site  sold_quantity  cost_price  net_price  \\\n",
       "336996  2023004  202316  1209              1       57800      60000   \n",
       "33621   2022001  202204  1229              1       65280      96000   \n",
       "92740   2023001  202303  1521              1      278800     410000   \n",
       "\n",
       "                                   product_id  listing_price price_group  \\\n",
       "336996  c49dc1f7f1db44a4a01f524b11458b7dXNH34        78545.0      70<100   \n",
       "33621   2249df1ae1914e37928f0436a7c417dfXAM41       104073.0     100<200   \n",
       "92740   d951cf31c8cc47409e77a5bf6bb8ca27DEN39       387818.0     300<600   \n",
       "\n",
       "       product_group  ... region  store_type urbanization  year week_in_year  \\\n",
       "336996           DEP  ...   KVMB     Độc lập    Nội thành  2023           16   \n",
       "33621            DEP  ...   KVMB     Độc lập    Nội thành  2022            4   \n",
       "92740            SAN  ...   KVMT     Độc lập    Nội thành  2023            3   \n",
       "\n",
       "       month_in_year   revenue    profit  gross_margin  discount_rate  \n",
       "336996             4   60000.0    2200.0      0.036667       0.236107  \n",
       "33621              1   96000.0   30720.0      0.320000       0.077571  \n",
       "92740              1  410000.0  131200.0      0.320000       0.000000  \n",
       "\n",
       "[3 rows x 23 columns]"
      ]
     },
     "execution_count": 89,
     "metadata": {},
     "output_type": "execute_result"
    }
   ],
   "source": [
    "df_clean.sample(3)"
   ]
  },
  {
   "cell_type": "markdown",
   "id": "232938f0",
   "metadata": {
    "id": "232938f0"
   },
   "source": [
    "## Let's visualize the price points to understand the outliers"
   ]
  },
  {
   "cell_type": "markdown",
   "id": "826baa3c",
   "metadata": {
    "id": "826baa3c"
   },
   "source": [
    "### Trực quan hóa outlier theo khu vực (region) và giá bán (net_price)"
   ]
  },
  {
   "cell_type": "code",
   "execution_count": null,
   "id": "0fa89b62",
   "metadata": {
    "id": "0fa89b62",
    "outputId": "d64b892c-5483-4ce6-acf1-8ff65ed36b72"
   },
   "outputs": [
    {
     "name": "stderr",
     "output_type": "stream",
     "text": [
      "C:\\Users\\Admin\\AppData\\Local\\Temp\\ipykernel_12296\\1181097810.py:7: FutureWarning: \n",
      "\n",
      "Passing `palette` without assigning `hue` is deprecated and will be removed in v0.14.0. Assign the `x` variable to `hue` and set `legend=False` for the same effect.\n",
      "\n",
      "  sns.boxplot(\n",
      "C:\\Users\\Admin\\AppData\\Local\\Temp\\ipykernel_12296\\1181097810.py:7: UserWarning: The palette list has more values (10) than needed (8), which may not be intended.\n",
      "  sns.boxplot(\n"
     ]
    },
    {
     "data": {
      "image/png": "[encoded data removed]",
      "text/plain": [
       "<Figure size 1000x600 with 1 Axes>"
      ]
     },
     "metadata": {},
     "output_type": "display_data"
    }
   ],
   "source": [
    "import matplotlib.pyplot as plt\n",
    "import seaborn as sns\n",
    "\n",
    "plt.style.use('seaborn-v0_8-pastel')\n",
    "plt.figure(figsize=(10,6))\n",
    "\n",
    "sns.boxplot(\n",
    "    data=df_clean,\n",
    "    x='region',\n",
    "    y='net_price',\n",
    "    palette=sns.color_palette('pastel')\n",
    ")\n",
    "\n",
    "plt.title('Phân bố giá bán (Net Price) theo khu vực', fontsize=12)\n",
    "plt.xlabel('Khu vực (Region)', fontsize=10)\n",
    "plt.ylabel('Giá bán (Net Price)', fontsize=10)\n",
    "plt.xticks(rotation=45, fontsize=8)\n",
    "plt.yticks(fontsize=8)\n",
    "plt.show()\n"
   ]
  },
  {
   "cell_type": "markdown",
   "id": "23f7ba53",
   "metadata": {
    "id": "23f7ba53"
   },
   "source": [
    "### Phân bố số lượng bán ra (sold_quantity):"
   ]
  },
  {
   "cell_type": "code",
   "execution_count": null,
   "id": "427ff022",
   "metadata": {
    "id": "427ff022",
    "outputId": "44bab5f0-2ae8-4c82-e178-72332a74725e"
   },
   "outputs": [
    {
     "name": "stderr",
     "output_type": "stream",
     "text": [
      "C:\\Users\\Admin\\AppData\\Local\\Temp\\ipykernel_12296\\2053609638.py:2: FutureWarning: \n",
      "\n",
      "Passing `palette` without assigning `hue` is deprecated and will be removed in v0.14.0. Assign the `x` variable to `hue` and set `legend=False` for the same effect.\n",
      "\n",
      "  sns.boxplot(\n",
      "C:\\Users\\Admin\\AppData\\Local\\Temp\\ipykernel_12296\\2053609638.py:2: UserWarning: The palette list has more values (10) than needed (8), which may not be intended.\n",
      "  sns.boxplot(\n"
     ]
    },
    {
     "data": {
      "image/png": "[encoded data removed]",
      "text/plain": [
       "<Figure size 1000x600 with 1 Axes>"
      ]
     },
     "metadata": {},
     "output_type": "display_data"
    }
   ],
   "source": [
    "plt.figure(figsize=(10,6))\n",
    "sns.boxplot(\n",
    "    data=df_clean,\n",
    "    x='region',\n",
    "    y='sold_quantity',\n",
    "    palette=sns.color_palette('pastel')\n",
    ")\n",
    "plt.title('Phân bố số lượng bán ra (Sold Quantity) theo khu vực', fontsize=12)\n",
    "plt.xlabel('Khu vực (Region)', fontsize=10)\n",
    "plt.ylabel('Số lượng bán ra', fontsize=10)\n",
    "plt.xticks(rotation=45, fontsize=8)\n",
    "plt.yticks(fontsize=8)\n",
    "plt.show()"
   ]
  },
  {
   "cell_type": "code",
   "execution_count": null,
   "id": "927d89e8",
   "metadata": {
    "id": "927d89e8"
   },
   "outputs": [],
   "source": []
  },
  {
   "cell_type": "markdown",
   "id": "8630e35c",
   "metadata": {
    "id": "8630e35c"
   },
   "source": [
    "## Analysis Questions"
   ]
  },
  {
   "cell_type": "markdown",
   "id": "a304134d",
   "metadata": {
    "id": "a304134d"
   },
   "source": [
    "Here, we try to gather all the possible analysis questions and insights into the data we want. I have gathered a few questions, whose answers I’d like to know. I have broadly classified the questions into 4 categories.\n",
    "\n",
    "I. Phân tích mô tả (Descriptive Analysis)\n",
    "\n",
    "1.1. Giá bán trung bình (net_price) và giá niêm yết (listing_price) của các sản phẩm.\n",
    "\n",
    "1.2. Mức chiết khấu trung bình (discount_rate) theo nhóm sản phẩm.\n",
    "\n",
    "1.4. Số lượng sản phẩm bán được trung bình (sold_quantity) trên mỗi SKU.\n",
    "\n",
    "II. Phân tích theo loại sản phẩm (SKU/Product Analysis)\n",
    "\n",
    "2.1. Top 10 nhóm sản phẩm (product_group) có doanh thu cao nhất.\n",
    "\n",
    "2.2. So sánh lợi nhuận trung bình (profit) giữa các thương hiệu (brand_name).\n",
    "\n",
    "2.3. Phân bố giá niêm yết (listing_price) theo nhóm giá (price_group).\n",
    "\n",
    "\n",
    "\n",
    "III. Phân tích theo thời gian (Time Series Analysis)\n",
    "\n",
    "3.1. Xu hướng doanh thu (revenue) theo thời gian (tuần/tháng).\n",
    "\n",
    "3.2. Mức chiết khấu trung bình thay đổi như thế nào qua các tháng.\n",
    "\n",
    "3.3. Doanh số bán trung bình (sold_quantity) theo mùa hoặc quý.\n",
    "\n",
    "\n",
    "IV. Phân tích theo khu vực (Regional Analysis)\n",
    "\n",
    "4.1. Top khu vực (region) có doanh thu cao nhất.\n",
    "\n",
    "4.2. So sánh lợi nhuận trung bình (profit) giữa các khu vực.\n",
    "\n",
    "4.3. Ảnh hưởng của loại cửa hàng (store_type) đến doanh số.\n",
    "\n"
   ]
  },
  {
   "cell_type": "markdown",
   "id": "bac32122",
   "metadata": {
    "id": "bac32122"
   },
   "source": [
    "## Descriptive Analysis"
   ]
  },
  {
   "cell_type": "markdown",
   "id": "1481f20e",
   "metadata": {
    "id": "1481f20e"
   },
   "source": [
    "1.1. Giá bán trung bình (net_price) và giá niêm yết (listing_price) của các sản phẩm"
   ]
  },
  {
   "cell_type": "code",
   "execution_count": null,
   "id": "ab7fe3f2",
   "metadata": {
    "id": "ab7fe3f2",
    "outputId": "18b4b667-df85-4aa8-8ca2-7c990a8c22fe"
   },
   "outputs": [
    {
     "name": "stdout",
     "output_type": "stream",
     "text": [
      "Average Net Price: $399331.25\n",
      "Average Listing Price: $332553.57\n"
     ]
    }
   ],
   "source": [
    "#Calculate the mean of the ‘price’ column\n",
    "average_net_price = df['net_price'].mean()\n",
    "print(f'Average Net Price: ${average_net_price:.2f}')\n",
    "\n",
    "average_listing_price = df['listing_price'].mean()\n",
    "print(f'Average Listing Price: ${average_listing_price:.2f}')\n"
   ]
  },
  {
   "cell_type": "code",
   "execution_count": null,
   "id": "9f0f6b1f",
   "metadata": {
    "id": "9f0f6b1f"
   },
   "outputs": [],
   "source": [
    "df.groupby('product_group')['discount_rate'].mean().sort_values(ascending=False)\n"
   ]
  },
  {
   "cell_type": "code",
   "execution_count": null,
   "id": "8a2f3b1a",
   "metadata": {
    "id": "8a2f3b1a"
   },
   "outputs": [],
   "source": [
    "df['gross_margin'].mean()"
   ]
  },
  {
   "cell_type": "code",
   "execution_count": null,
   "id": "ec4a156c",
   "metadata": {
    "id": "ec4a156c"
   },
   "outputs": [],
   "source": [
    "df.groupby('product_id')['sold_quantity'].mean().head(10)"
   ]
  },
  {
   "cell_type": "code",
   "execution_count": null,
   "id": "d284ca5d",
   "metadata": {
    "id": "d284ca5d"
   },
   "outputs": [],
   "source": [
    "# VẼ BIỂU ĐỒ SCATTER PLOT\n",
    "sns.scatterplot(x='net_price', y='sold_quantity', data=sales_data, alpha=0.6)\n",
    "plt.title(\"Figure 4.11. Relationship between Price and Sold Quantity\")\n",
    "plt.xlabel(\"Net Price\")\n",
    "plt.ylabel(\"Sold Quantity\")\n",
    "plt.show()\n"
   ]
  },
  {
   "cell_type": "markdown",
   "id": "06872620",
   "metadata": {
    "id": "06872620"
   },
   "source": [
    "Phân phối của các biến chính (Distribution of Key Features)"
   ]
  },
  {
   "cell_type": "code",
   "execution_count": null,
   "id": "336991a4",
   "metadata": {
    "id": "336991a4"
   },
   "outputs": [],
   "source": [
    "import matplotlib.pyplot as plt\n",
    "import seaborn as sns\n",
    "\n",
    "plt.figure(figsize=(12,6))\n",
    "sales_data['sold_quantity'].hist(bins=50, color='skyblue', edgecolor='black')\n",
    "plt.title(\"Figure 4.8. Distribution of Sold Quantity\")\n",
    "plt.xlabel(\"Số lượng bán (sold_quantity)\")\n",
    "plt.ylabel(\"Tần suất xuất hiện\")\n",
    "plt.show()\n"
   ]
  },
  {
   "cell_type": "markdown",
   "id": "1e12915e",
   "metadata": {
    "id": "1e12915e"
   },
   "source": [
    "## Phân tích theo loại sản phẩm"
   ]
  },
  {
   "cell_type": "markdown",
   "id": "05e961a9",
   "metadata": {
    "id": "05e961a9"
   },
   "source": []
  },
  {
   "cell_type": "code",
   "execution_count": null,
   "id": "8a7b8547",
   "metadata": {
    "id": "8a7b8547"
   },
   "outputs": [],
   "source": [
    "# 2.1 Top 10 nhóm sản phẩm doanh thu cao nhất\n",
    "df.groupby('product_group')['revenue'].sum().sort_values(ascending=False).head(10)\n",
    "\n",
    "# 2.2 Lợi nhuận trung bình theo thương hiệu\n",
    "df.groupby('brand_name')['profit'].mean().sort_values(ascending=False).head(10)\n",
    "\n",
    "# 2.3 Phân bố giá niêm yết theo nhóm giá\n",
    "df.groupby('price_group')['listing_price'].mean().sort_values()\n",
    "\n",
    "# 2.4 Chiết khấu trung bình theo nhóm sản phẩm\n",
    "df.groupby('product_group')['discount_rate'].mean().sort_values(ascending=False)\n"
   ]
  },
  {
   "cell_type": "markdown",
   "id": "f2c317e4",
   "metadata": {
    "id": "f2c317e4"
   },
   "source": [
    "## Phân tích theo thời gian"
   ]
  },
  {
   "cell_type": "code",
   "execution_count": null,
   "id": "ff97c8d0",
   "metadata": {
    "id": "ff97c8d0"
   },
   "outputs": [],
   "source": [
    "# 3.1 Xu hướng doanh thu theo tháng\n",
    "df.groupby('month')['revenue'].sum().plot(kind='line', title='Doanh thu theo tháng')\n",
    "\n",
    "# 3.2 Chiết khấu trung bình theo tháng\n",
    "df.groupby('month')['discount_rate'].mean().plot(kind='line', title='Chiết khấu trung bình theo tháng')\n",
    "\n",
    "# 3.3 Số lượng bán trung bình theo tháng\n",
    "df.groupby('month')['sold_quantity'].mean()\n",
    "\n",
    "# 3.4 So sánh giá trung bình giữa các tháng\n",
    "df.groupby('month')['net_price'].mean()\n"
   ]
  },
  {
   "cell_type": "markdown",
   "id": "2d9daa2b",
   "metadata": {
    "id": "2d9daa2b"
   },
   "source": [
    "## Phân tích theo khu vực"
   ]
  },
  {
   "cell_type": "code",
   "execution_count": null,
   "id": "f72342b8",
   "metadata": {
    "id": "f72342b8"
   },
   "outputs": [],
   "source": [
    "# 4.1 Top khu vực doanh thu cao nhất\n",
    "df.groupby('region')['revenue'].sum().sort_values(ascending=False).head(10)\n",
    "\n",
    "# 4.2 Lợi nhuận trung bình theo khu vực\n",
    "df.groupby('region')['profit'].mean().sort_values(ascending=False)\n",
    "\n",
    "# 4.3 Doanh số trung bình theo loại cửa hàng\n",
    "df.groupby('store_type')['sold_quantity'].mean()\n",
    "\n",
    "# 4.4 So sánh B2B vs B2C\n",
    "df.groupby('b2b_b2c')[['revenue', 'discount_rate']].mean()\n"
   ]
  },
  {
   "cell_type": "markdown",
   "id": "8ae578c2",
   "metadata": {
    "id": "8ae578c2"
   },
   "source": [
    "🔹 Bước 2 – Áp dụng Log Transformation"
   ]
  },
  {
   "cell_type": "code",
   "execution_count": null,
   "id": "84bc4e8f",
   "metadata": {
    "id": "84bc4e8f"
   },
   "outputs": [],
   "source": [
    "import numpy as np\n",
    "\n",
    "sales_data['log_sold_quantity'] = np.log1p(sales_data['sold_quantity'])\n",
    "sns.histplot(sales_data['log_sold_quantity'], bins=40, color='orange')\n",
    "plt.title(\"Figure 4.9. Distribution after Log Transformation\")\n",
    "plt.xlabel(\"log(1 + sold_quantity)\")\n",
    "plt.ylabel(\"Frequency\")\n",
    "plt.show()\n"
   ]
  },
  {
   "cell_type": "markdown",
   "id": "1888257f",
   "metadata": {
    "id": "1888257f"
   },
   "source": [
    "Bước 3 – Tương quan giữa các biến (Correlation Analysis)\n",
    "Bước 4 - Phân tích mối quan hệ giữa Giá và Doanh số (Price vs Sales)\n",
    "Bước 5 – Sản phẩm bán chạy nhất (Top Selling Products)\n",
    "Bước 6 – Phân tích doanh số theo khu vực (Regional Sales Analysis)\n",
    "Bước 7 – Doanh số theo kênh bán hàng (Channel Analysis)\n",
    "Bước 8 – Phân tích xu hướng theo thời gian (Time Series Trends)"
   ]
  },
  {
   "cell_type": "code",
   "execution_count": null,
   "id": "e22bf8ef",
   "metadata": {
    "id": "e22bf8ef"
   },
   "outputs": [],
   "source": [
    "3\n",
    "corr = sales_data[['sold_quantity', 'net_price', 'cost_price']].corr()\n",
    "sns.heatmap(corr, annot=True, cmap='coolwarm', fmt=\".2f\")\n",
    "plt.title(\"Figure 4.10. Correlation Matrix between Key Variables\")\n",
    "plt.show()\n",
    "\n",
    "\n",
    "\n",
    "\n",
    "plt.figure(figsize=(10,6))\n",
    "sns.heatmap(merged_df.select_dtypes(include=np.number).corr(), annot=True, cmap=\"coolwarm\")\n",
    "plt.title(\"Figure 4.8. Correlation Matrix of Numeric Variables\")\n",
    "plt.show()\n"
   ]
  },
  {
   "cell_type": "code",
   "execution_count": null,
   "id": "f9026904",
   "metadata": {
    "id": "f9026904"
   },
   "outputs": [],
   "source": [
    "5\n",
    "top_products = sales_data.groupby('product_id')['sold_quantity'].sum().sort_values(ascending=False).head(10)\n",
    "top_products.plot(kind='bar', color='teal', figsize=(10,4))\n",
    "plt.title(\"Figure 4.12. Top 10 Best-Selling Products\")\n",
    "plt.ylabel(\"Total Quantity Sold\")\n",
    "plt.show()\n"
   ]
  },
  {
   "cell_type": "code",
   "execution_count": null,
   "id": "1dc6eef4",
   "metadata": {
    "id": "1dc6eef4"
   },
   "outputs": [],
   "source": [
    "6\n",
    "region_sales = sales_data.groupby('branch_id')['sold_quantity'].sum().sort_values(ascending=False)\n",
    "region_sales.plot(kind='bar', color='slateblue', figsize=(10,4))\n",
    "plt.title(\"Figure 4.13. Total Sales Quantity by Branch/Region\")\n",
    "plt.ylabel(\"Total Sold Quantity\")\n",
    "plt.show()\n"
   ]
  },
  {
   "cell_type": "code",
   "execution_count": null,
   "id": "94fdc44d",
   "metadata": {
    "id": "94fdc44d"
   },
   "outputs": [],
   "source": [
    "7\n",
    "channel_sales = sales_data.groupby('channel_id')['sold_quantity'].sum().sort_values(ascending=False)\n",
    "sns.barplot(x=channel_sales.index, y=channel_sales.values, palette='Set2')\n",
    "plt.title(\"Figure 4.14. Total Sales by Channel Type\")\n",
    "plt.ylabel(\"Quantity Sold\")\n",
    "plt.xlabel(\"Channel ID\")\n",
    "plt.show()\n"
   ]
  },
  {
   "cell_type": "code",
   "execution_count": null,
   "id": "62ccb736",
   "metadata": {
    "id": "62ccb736"
   },
   "outputs": [],
   "source": [
    "8\n",
    "weekly_sales = sales_data.groupby('week')['sold_quantity'].sum()\n",
    "plt.figure(figsize=(12,5))\n",
    "plt.plot(weekly_sales.index, weekly_sales.values, marker='o', color='tomato')\n",
    "plt.title(\"Figure 4.15. Weekly Sales Trend (2022–2023)\")\n",
    "plt.xlabel(\"Week\")\n",
    "plt.ylabel(\"Total Sold Quantity\")\n",
    "plt.grid(True)\n",
    "plt.show()\n"
   ]
  },
  {
   "cell_type": "markdown",
   "id": "75496de6",
   "metadata": {
    "id": "75496de6"
   },
   "source": [
    "Descriptive data\n",
    "1.1 Doanh thu trung bình theo tháng là bao nhiêu?\n",
    "→ (Trả lời bằng biểu đồ đường thể hiện xu hướng doanh thu trung bình hàng tháng.)\n",
    "\n",
    "1.2 Giá bán trung bình của các sản phẩm là bao nhiêu, và mức giá này khác nhau như thế nào giữa các nhóm sản phẩm (product_group)?\n",
    "→ (Trả lời bằng boxplot hoặc bar chart phân nhóm theo product_group.)\n",
    "\n",
    "1.3 Tổng doanh thu của từng khu vực (region) chiếm tỷ trọng bao nhiêu trong tổng doanh thu toàn hệ thống?\n",
    "→ (Trả lời bằng biểu đồ tròn Pie Chart thể hiện phần trăm doanh thu theo khu vực.)"
   ]
  },
  {
   "cell_type": "code",
   "execution_count": null,
   "id": "fb577e4c",
   "metadata": {
    "id": "fb577e4c"
   },
   "outputs": [],
   "source": [
    "# 1. Doanh thu trung bình theo tháng\n",
    "avg_month_sales = merged_df.groupby('YearMonth')['total_sales'].mean()\n",
    "avg_month_sales.plot(kind='line', figsize=(8,4))\n",
    "plt.title(\"Figure 4.9. Average Monthly Sales Trend\")\n",
    "plt.xlabel(\"Year-Month\")\n",
    "plt.ylabel(\"Average Sales\")\n",
    "plt.show()\n",
    "\n",
    "# 2. Tổng doanh thu theo khu vực\n",
    "region_sales = merged_df.groupby('region')['total_sales'].sum().sort_values(ascending=False)\n",
    "region_sales.plot(kind='bar', figsize=(8,4))\n",
    "plt.title(\"Figure 4.10. Total Sales by Region\")\n",
    "plt.ylabel(\"Total Sales\")\n",
    "plt.show()\n",
    "\n",
    "# 3. Phân bố giá bán theo nhóm sản phẩm\n",
    "sns.boxplot(x='product_group', y='net_price', data=merged_df)\n",
    "plt.title(\"Figure 4.11. Price Distribution by Product Group\")\n",
    "plt.show()\n"
   ]
  },
  {
   "cell_type": "markdown",
   "id": "94ed51b1",
   "metadata": {
    "id": "94ed51b1"
   },
   "source": [
    "Phân tích theo Thời gian (Time Series)\n",
    "2.1 Doanh thu hàng tuần có xu hướng tăng hay giảm trong giai đoạn 2022–2023?\n",
    "→ (Vẽ biểu đồ đường thể hiện biến động tổng doanh thu theo tuần hoặc theo tháng.)\n",
    "\n",
    "2.2 Mức tăng trưởng doanh thu giữa các tuần như thế nào, có tuần nào tăng đột biến hoặc giảm mạnh không?\n",
    "→ (Vẽ biểu đồ đường thể hiện phần trăm tăng trưởng tuần kế tiếp.)\n",
    "\n",
    "2.3 Có dấu hiệu mùa vụ (seasonal trend) trong hoạt động bán hàng không? Ví dụ: doanh thu tăng mạnh ở mùa lễ, Tết, hoặc giảm ở thời điểm thấp điểm trong năm.\n",
    "→ (Vẽ biểu đồ Seasonal Decomposition hoặc line plot nhóm theo tháng.)"
   ]
  },
  {
   "cell_type": "code",
   "execution_count": null,
   "id": "fe9ae3a6",
   "metadata": {
    "id": "fe9ae3a6"
   },
   "outputs": [],
   "source": [
    "# 1. Xu hướng doanh thu theo tuần\n",
    "weekly_sales = merged_df.groupby('YearWeek')['total_sales'].sum()\n",
    "weekly_sales.plot(figsize=(8,4))\n",
    "plt.title(\"Figure 4.12. Weekly Sales Trend\")\n",
    "plt.xlabel(\"Week\")\n",
    "plt.ylabel(\"Total Sales\")\n",
    "plt.show()\n",
    "\n",
    "# 2. Tăng trưởng doanh thu tuần kế tiếp\n",
    "merged_df['weekly_growth'] = merged_df['total_sales'].pct_change()\n",
    "merged_df[['YearWeek','weekly_growth']].dropna().plot(x='YearWeek', y='weekly_growth', figsize=(8,4))\n",
    "plt.title(\"Figure 4.13. Weekly Sales Growth (%)\")\n",
    "plt.ylabel(\"Growth rate\")\n",
    "plt.show()\n"
   ]
  },
  {
   "cell_type": "markdown",
   "id": "bea4b937",
   "metadata": {
    "id": "bea4b937"
   },
   "source": [
    "Phân tích theo Sản phẩm / SKU\n",
    ".1 Những sản phẩm nào (theo mã SKU) có doanh số bán ra cao nhất trong giai đoạn nghiên cứu?\n",
    "→ (Vẽ bar chart Top 10 sản phẩm bán chạy nhất.)\n",
    "\n",
    "3.2 Nhóm sản phẩm nào (giày, dép, túi xách, phụ kiện, v.v.) mang lại doanh thu trung bình cao nhất?\n",
    "→ (Vẽ bar chart thể hiện doanh thu trung bình theo nhóm sản phẩm.)\n",
    "\n",
    "3.3 Tồn kho trung bình của các nhóm sản phẩm có sự chênh lệch đáng kể không, nhóm nào tồn kho cao nhất?\n",
    "→ (Vẽ bar chart thể hiện số lượng tồn kho trung bình theo product_group.)"
   ]
  },
  {
   "cell_type": "code",
   "execution_count": null,
   "id": "a930ec53",
   "metadata": {
    "id": "a930ec53"
   },
   "outputs": [],
   "source": [
    "# 1. Top 10 sản phẩm bán chạy\n",
    "top_sku = merged_df.groupby('product_id')['sold_quantity'].sum().nlargest(10)\n",
    "top_sku.plot(kind='bar', figsize=(8,4))\n",
    "plt.title(\"Figure 4.14. Top 10 Best-Selling SKUs\")\n",
    "plt.ylabel(\"Quantity Sold\")\n",
    "plt.show()\n",
    "\n",
    "# 2. So sánh giá trung bình giữa nhóm sản phẩm\n",
    "sns.barplot(x='product_group', y='net_price', data=merged_df)\n",
    "plt.title(\"Figure 4.15. Average Price by Product Group\")\n",
    "plt.show()\n",
    "\n",
    "# 3. Tồn kho trung bình theo nhóm hàng\n",
    "inventory_avg = merged_df.groupby('product_group')['quantity'].mean()\n",
    "inventory_avg.plot(kind='bar', figsize=(8,4))\n",
    "plt.title(\"Figure 4.16. Average Inventory Quantity by Product Group\")\n",
    "plt.show()\n"
   ]
  },
  {
   "cell_type": "markdown",
   "id": "75dbe60b",
   "metadata": {
    "id": "75dbe60b"
   },
   "source": [
    "Phân tích theo Khu vực (Regional Analysis)\n",
    "4.1 Khu vực nào có tổng doanh thu cao nhất và thấp nhất?\n",
    "→ (Vẽ bar chart thể hiện tổng doanh thu theo khu vực.)\n",
    "\n",
    "4.2 Tồn kho trung bình giữa các khu vực khác nhau như thế nào?\n",
    "→ (Vẽ boxplot thể hiện phân bố tồn kho theo khu vực.)\n",
    "\n",
    "4.3 Doanh thu giữa các khu vực có tương quan với mức độ đô thị hóa (urbanization) không?\n",
    "→ (Có thể sử dụng scatter plot hoặc heatmap để thể hiện mối liên hệ giữa urbanization và tổng doanh thu."
   ]
  },
  {
   "cell_type": "code",
   "execution_count": null,
   "id": "f920b32d",
   "metadata": {
    "id": "f920b32d"
   },
   "outputs": [],
   "source": [
    "# 1. Doanh thu theo vùng và tháng\n",
    "pivot_region = pd.pivot_table(merged_df, values='total_sales', index='region', columns='YearMonth', aggfunc='sum')\n",
    "sns.heatmap(pivot_region, cmap=\"YlGnBu\")\n",
    "plt.title(\"Figure 4.17. Heatmap: Sales by Region and Month\")\n",
    "plt.show()\n",
    "\n",
    "# 2. Trung bình tồn kho theo vùng\n",
    "sns.boxplot(x='region', y='quantity', data=merged_df)\n",
    "plt.title(\"Figure 4.18. Inventory Distribution by Region\")\n",
    "plt.show()\n",
    "\n",
    "# 3. Tỷ trọng doanh thu theo vùng\n",
    "region_ratio = merged_df.groupby('region')['total_sales'].sum()\n",
    "region_ratio.plot(kind='pie', autopct='%1.1f%%', figsize=(6,6))\n",
    "plt.title(\"Figure 4.19. Sales Share by Region\")\n",
    "plt.ylabel(\"\")\n",
    "plt.show()\n"
   ]
  }
 ],
 "metadata": {
  "kernelspec": {
   "display_name": "Python 3",
   "language": "python",
   "name": "python3"
  },
  "language_info": {
   "codemirror_mode": {
    "name": "ipython",
    "version": 3
   },
   "file_extension": ".py",
   "mimetype": "text/x-python",
   "name": "python",
   "nbconvert_exporter": "python",
   "pygments_lexer": "ipython3",
   "version": "3.12.4"
  },
  "colab": {
   "provenance": []
  }
 },
 "nbformat": 4,
 "nbformat_minor": 5
}
